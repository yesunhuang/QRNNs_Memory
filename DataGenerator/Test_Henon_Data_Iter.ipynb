{
 "cells": [
  {
   "cell_type": "markdown",
   "metadata": {},
   "source": [
    "# Test Henon Map Data Iter"
   ]
  },
  {
   "cell_type": "markdown",
   "metadata": {},
   "source": [
    "This is a notebook for testing the Henon Map Data Iter"
   ]
  },
  {
   "cell_type": "markdown",
   "metadata": {},
   "source": [
    "## Import everything"
   ]
  },
  {
   "cell_type": "markdown",
   "metadata": {},
   "source": [
    "Modify setting for pytorch"
   ]
  },
  {
   "cell_type": "code",
   "execution_count": 1,
   "metadata": {},
   "outputs": [],
   "source": [
    "import os\n",
    "os.environ['KMP_DUPLICATE_LIB_OK']='True'\n",
    "currentPath=os.getcwd()"
   ]
  },
  {
   "cell_type": "markdown",
   "metadata": {},
   "source": [
    "Import matplotlib and others"
   ]
  },
  {
   "cell_type": "code",
   "execution_count": 2,
   "metadata": {},
   "outputs": [],
   "source": [
    "%matplotlib inline\n",
    "import matplotlib.pyplot as plt"
   ]
  },
  {
   "cell_type": "markdown",
   "metadata": {},
   "source": [
    "Import Henon Map Generator"
   ]
  },
  {
   "cell_type": "code",
   "execution_count": 3,
   "metadata": {},
   "outputs": [],
   "source": [
    "from HenonMapDataGen import HenonMapDataGen"
   ]
  },
  {
   "cell_type": "markdown",
   "metadata": {},
   "source": [
    "## Henon Map Data Iter"
   ]
  },
  {
   "cell_type": "markdown",
   "metadata": {},
   "source": [
    "Set save path"
   ]
  },
  {
   "cell_type": "code",
   "execution_count": 4,
   "metadata": {},
   "outputs": [],
   "source": [
    "savepath=os.path.join(currentPath,'..\\data\\HenonMap\\Test')\n",
    "filename='HenonMapTest3.csv'"
   ]
  },
  {
   "cell_type": "markdown",
   "metadata": {},
   "source": [
    "Read the data"
   ]
  },
  {
   "cell_type": "code",
   "execution_count": 5,
   "metadata": {},
   "outputs": [],
   "source": [
    "hmap=HenonMapDataGen(savepath=savepath)\n",
    "hmap.read_from_CSV(filename)"
   ]
  },
  {
   "cell_type": "code",
   "execution_count": 6,
   "metadata": {},
   "outputs": [
    {
     "name": "stdout",
     "output_type": "stream",
     "text": [
      "Data Info:\n",
      "----------------------------------------\n",
      "Data Size: 1000\n",
      "Data Interval: 5\n",
      "Data ParamA: 1.4, Data ParamB: 0.3\n",
      "Data Bound: -1.2\n",
      "Data HeavyMem: False\n",
      "Data Seed:\n",
      " [0.031695751652105884, 0.051268733966253546, 0.0720924128606658, 0.09583012603424566, 0.008422309710949259, 0.07424665082080417, 0.019262511639782976, 0.044727260803307495, 0.07813401087877536, 0.016359929459163803]\n",
      "----------------------------------------\n"
     ]
    }
   ],
   "source": [
    "print(hmap)"
   ]
  },
  {
   "cell_type": "markdown",
   "metadata": {},
   "source": [
    "Data iter parameters"
   ]
  },
  {
   "cell_type": "code",
   "execution_count": 7,
   "metadata": {},
   "outputs": [],
   "source": [
    "testSetRatio=0.2\n",
    "numStep=10\n",
    "batchSize=2"
   ]
  },
  {
   "cell_type": "markdown",
   "metadata": {},
   "source": [
    "### Test the random data iter"
   ]
  },
  {
   "cell_type": "code",
   "execution_count": 8,
   "metadata": {},
   "outputs": [],
   "source": [
    "trainIter,testIter=hmap.get_data_iter(testSetRatio,numStep,batchSize)"
   ]
  },
  {
   "cell_type": "markdown",
   "metadata": {},
   "source": [
    "TrainIter"
   ]
  },
  {
   "cell_type": "code",
   "execution_count": 9,
   "metadata": {},
   "outputs": [
    {
     "name": "stdout",
     "output_type": "stream",
     "text": [
      "X=tensor([[-0.3807, -1.2000, -0.6162,  0.4634,  0.1237,  1.1064, -0.6392,  0.1104,\n",
      "          0.9113,  1.2190],\n",
      "        [-0.8088,  0.6085,  0.5309,  0.6923, -1.0147,  0.4319,  0.4137,  0.5105,\n",
      "          0.3106, -0.0897]])\n",
      "Y=tensor([[ 0.0000,  0.0000,  0.0000,  0.0000,  0.0000, -0.8279,  0.0680,  0.7981,\n",
      "         -0.0238, -1.0434],\n",
      "        [ 0.0000,  0.0000,  0.0000,  0.0000,  0.0000,  0.4962,  0.9429,  0.7944,\n",
      "          1.0726,  0.6843]])\n"
     ]
    }
   ],
   "source": [
    "X,Y=next(iter(trainIter))\n",
    "print('X='+str(X))\n",
    "print('Y='+str(Y))"
   ]
  },
  {
   "cell_type": "code",
   "execution_count": 10,
   "metadata": {},
   "outputs": [
    {
     "name": "stdout",
     "output_type": "stream",
     "text": [
      "total number of train data: 79\n"
     ]
    }
   ],
   "source": [
    "print('total number of train data:',len(trainIter))"
   ]
  },
  {
   "cell_type": "markdown",
   "metadata": {},
   "source": [
    "TestIter"
   ]
  },
  {
   "cell_type": "code",
   "execution_count": 11,
   "metadata": {},
   "outputs": [
    {
     "name": "stdout",
     "output_type": "stream",
     "text": [
      "X=tensor([[-0.1602, -0.1647, -1.2000, -0.8699,  0.6657,  0.6509,  0.6483, -0.6354,\n",
      "          0.2781,  0.4446],\n",
      "        [ 0.6821, -0.0984, -0.4902, -0.1830,  0.6984,  0.4560,  1.2675,  0.9573,\n",
      "          0.6375,  0.3546]])\n",
      "Y=tensor([[ 0.0000,  0.0000,  0.0000,  0.0000,  0.0000,  0.3589,  0.3622,  0.0748,\n",
      "          0.6307,  0.9229],\n",
      "        [ 0.0000,  0.0000,  0.0000,  0.0000,  0.0000,  0.9135, -1.2000, -0.4301,\n",
      "          0.3761,  1.0334]])\n"
     ]
    }
   ],
   "source": [
    "X,Y=next(iter(testIter))\n",
    "print('X='+str(X))\n",
    "print('Y='+str(Y))"
   ]
  },
  {
   "cell_type": "code",
   "execution_count": 12,
   "metadata": {},
   "outputs": [
    {
     "name": "stdout",
     "output_type": "stream",
     "text": [
      "total number of test data: 19\n"
     ]
    }
   ],
   "source": [
    "print('total number of test data:',len(testIter))"
   ]
  },
  {
   "cell_type": "markdown",
   "metadata": {},
   "source": [
    "Visualize the data"
   ]
  },
  {
   "cell_type": "code",
   "execution_count": 13,
   "metadata": {},
   "outputs": [
    {
     "data": {
      "text/plain": [
       "Text(0, 0.5, 'Y')"
      ]
     },
     "execution_count": 13,
     "metadata": {},
     "output_type": "execute_result"
    },
    {
     "data": {
      "image/png": "[encoded data removed]",
      "text/plain": [
       "<Figure size 504x216 with 2 Axes>"
      ]
     },
     "metadata": {
      "needs_background": "light"
     },
     "output_type": "display_data"
    }
   ],
   "source": [
    "#Visualize the data via matplotlib\n",
    "fig,axes=plt.subplots(1,2,figsize=(7,3))\n",
    "for X,Y in trainIter:\n",
    "    axes[0].plot(X,Y,'.')\n",
    "axes[0].set_title('train data')\n",
    "axes[0].set_xlabel('X')\n",
    "axes[0].set_ylabel('Y')\n",
    "for X,Y in testIter:\n",
    "    axes[1].plot(X,Y,'.')\n",
    "axes[1].set_title('test data')\n",
    "axes[1].set_xlabel('X')\n",
    "axes[1].set_ylabel('Y')"
   ]
  },
  {
   "cell_type": "markdown",
   "metadata": {},
   "source": [
    "### Test the sequential data iter"
   ]
  },
  {
   "cell_type": "code",
   "execution_count": 14,
   "metadata": {},
   "outputs": [],
   "source": [
    "trainIter,testIter=hmap.get_data_iter(testSetRatio,numStep,batchSize,mask=0,shuffle=False)"
   ]
  },
  {
   "cell_type": "markdown",
   "metadata": {},
   "source": [
    "TrainIter"
   ]
  },
  {
   "cell_type": "code",
   "execution_count": 15,
   "metadata": {},
   "outputs": [
    {
     "name": "stdout",
     "output_type": "stream",
     "text": [
      "Data1\n",
      "X=tensor([[ 0.0317,  0.0513,  0.0721,  0.0958,  0.0084,  0.0742,  0.0193,  0.0447,\n",
      "          0.0781,  0.0164],\n",
      "        [ 0.7158,  0.9194,  0.0676, -1.1059,  0.6291,  0.4568, -0.3446,  0.8018,\n",
      "         -0.3513,  0.6204]])\n",
      "Y=tensor([[ 0.0000,  0.0000,  0.0000,  0.0000,  0.0000,  1.0018,  1.0149,  1.0188,\n",
      "          1.0202,  1.0022],\n",
      "        [ 0.4568, -0.3446,  0.8018, -0.3513,  0.6204,  0.9226,  1.1096,  0.1203,\n",
      "          0.4955,  0.6499]])\n",
      "Data2\n",
      "X=tensor([[ 1.0018,  1.0149,  1.0188,  1.0202,  1.0022, -0.3827, -0.4361, -0.4398,\n",
      "         -0.4337, -0.4011],\n",
      "        [ 0.9226,  1.1096,  0.1203,  0.4955,  0.6499, -0.0546, -0.8269,  1.2203,\n",
      "          0.5509,  0.5948]])\n",
      "Y=tensor([[-0.3827, -0.4361, -0.4398, -0.4337, -0.4011,  1.0954,  1.0382,  1.0349,\n",
      "          1.0427,  1.0754],\n",
      "        [-0.0546, -0.8269,  1.2203,  0.5509,  0.5948,  1.2726,  0.3755, -1.0486,\n",
      "          0.7237,  0.6997]])\n",
      "Data3\n",
      "X=tensor([[ 1.0954,  1.0382,  1.0349,  1.0427,  1.0754, -0.7948, -0.6397, -0.6313,\n",
      "         -0.6523, -0.7394],\n",
      "        [ 1.2726,  0.3755, -1.0486,  0.7237,  0.6997, -1.2000,  0.5545, -0.1732,\n",
      "          0.4320,  0.4930]])\n",
      "Y=tensor([[-0.7948, -0.6397, -0.6313, -0.6523, -0.7394,  0.4442,  0.7385,  0.7526,\n",
      "          0.7171,  0.5573],\n",
      "        [-1.2000,  0.5545, -0.1732,  0.4320,  0.4930, -0.6342,  0.6822,  0.6434,\n",
      "          0.9559,  0.8697]])\n"
     ]
    }
   ],
   "source": [
    "i=0\n",
    "for X,Y in trainIter:\n",
    "    i+=1\n",
    "    print('Data'+str(i))\n",
    "    print('X='+str(X))\n",
    "    print('Y='+str(Y))\n",
    "    if i==3:\n",
    "        break"
   ]
  },
  {
   "cell_type": "code",
   "execution_count": 16,
   "metadata": {},
   "outputs": [
    {
     "name": "stdout",
     "output_type": "stream",
     "text": [
      "78\n"
     ]
    }
   ],
   "source": [
    "print(len(trainIter))"
   ]
  },
  {
   "cell_type": "markdown",
   "metadata": {},
   "source": [
    "TestIter"
   ]
  },
  {
   "cell_type": "code",
   "execution_count": 17,
   "metadata": {},
   "outputs": [
    {
     "name": "stdout",
     "output_type": "stream",
     "text": [
      "Data1\n",
      "X=tensor([[-1.0683,  0.1348,  0.5275,  0.9945,  1.0393, -0.2389,  0.6959,  0.7316,\n",
      "         -0.2637, -0.6454],\n",
      "        [ 1.1584,  1.2193,  0.2592, -1.2000, -0.9447, -0.9750, -1.0445,  1.1463,\n",
      "         -0.6344,  0.0949]])\n",
      "Y=tensor([[-0.2389,  0.6959,  0.7316, -0.2637, -0.6454,  0.5996,  0.3624,  0.4088,\n",
      "          1.2010,  0.7286],\n",
      "        [-0.9750, -1.0445,  1.1463, -0.6344,  0.0949,  0.0165, -0.1615, -0.7618,\n",
      "          0.0765,  0.7040]])\n",
      "Data2\n",
      "X=tensor([[ 0.5996,  0.3624,  0.4088,  1.2010,  0.7286,  0.4250,  1.0249,  0.9855,\n",
      "         -1.0985,  0.0632],\n",
      "        [ 0.0165, -0.1615, -0.7618,  0.0765,  0.7040,  0.7071,  0.6501,  0.5315,\n",
      "          0.8015,  0.3346]])\n",
      "Y=tensor([[ 0.4250,  1.0249,  0.9855, -1.0985,  0.0632,  0.9270, -0.3618, -0.2371,\n",
      "         -0.3290,  1.2130],\n",
      "        [ 0.7071,  0.6501,  0.5315,  0.8015,  0.3346,  0.3050,  0.3598,  0.3760,\n",
      "          0.1237,  1.0544]])\n",
      "Data3\n",
      "X=tensor([[ 0.9270, -0.3618, -0.2371, -0.3290,  1.2130, -0.0756,  1.1242,  1.2170,\n",
      "          0.5189, -1.0409],\n",
      "        [ 0.3050,  0.3598,  0.3760,  0.1237,  1.0544,  1.0819,  1.0138,  0.9615,\n",
      "          1.2190, -0.4561]])\n",
      "Y=tensor([[-0.0756,  1.1242,  1.2170,  0.5189, -1.0409,  1.2701, -0.8778, -1.1445,\n",
      "          0.5244, -0.1531],\n",
      "        [ 1.0819,  1.0138,  0.9615,  1.2190, -0.4561, -0.5473, -0.3310, -0.1815,\n",
      "         -1.0434,  1.0251]])\n"
     ]
    }
   ],
   "source": [
    "i=0\n",
    "for X,Y in testIter:\n",
    "    i+=1\n",
    "    print('Data'+str(i))\n",
    "    print('X='+str(X))\n",
    "    print('Y='+str(Y))\n",
    "    if i==3:\n",
    "        break"
   ]
  },
  {
   "cell_type": "code",
   "execution_count": 18,
   "metadata": {},
   "outputs": [
    {
     "name": "stdout",
     "output_type": "stream",
     "text": [
      "18\n"
     ]
    }
   ],
   "source": [
    "print(len(testIter))"
   ]
  },
  {
   "cell_type": "markdown",
   "metadata": {},
   "source": [
    "Visualize the data"
   ]
  },
  {
   "cell_type": "code",
   "execution_count": 19,
   "metadata": {},
   "outputs": [
    {
     "data": {
      "text/plain": [
       "Text(0, 0.5, 'Y')"
      ]
     },
     "execution_count": 19,
     "metadata": {},
     "output_type": "execute_result"
    },
    {
     "data": {
      "image/png": "[encoded data removed]",
      "text/plain": [
       "<Figure size 504x216 with 2 Axes>"
      ]
     },
     "metadata": {
      "needs_background": "light"
     },
     "output_type": "display_data"
    }
   ],
   "source": [
    "#Visualize the data via matplotlib\n",
    "fig,axes=plt.subplots(1,2,figsize=(7,3))\n",
    "for X,Y in trainIter:\n",
    "    axes[0].plot(X.flatten(),Y.flatten(),'.')\n",
    "axes[0].set_title('Training data')\n",
    "axes[0].set_xlabel('X')\n",
    "axes[0].set_ylabel('Y')\n",
    "\n",
    "for X,Y in testIter:\n",
    "    axes[1].plot(X.flatten(),Y.flatten(),'.')\n",
    "axes[1].set_title('Test data')\n",
    "axes[1].set_xlabel('X')\n",
    "axes[1].set_ylabel('Y')"
   ]
  },
  {
   "cell_type": "markdown",
   "metadata": {},
   "source": [
    "# End of the test"
   ]
  }
 ],
 "metadata": {
  "interpreter": {
   "hash": "8d86c190dfcadcdaa67edec4a1ea82702241987b5b1f320c920d3d4ca36fee5b"
  },
  "kernelspec": {
   "display_name": "Python 3.8.3 ('base')",
   "language": "python",
   "name": "python3"
  },
  "language_info": {
   "codemirror_mode": {
    "name": "ipython",
    "version": 3
   },
   "file_extension": ".py",
   "mimetype": "text/x-python",
   "name": "python",
   "nbconvert_exporter": "python",
   "pygments_lexer": "ipython3",
   "version": "3.8.3"
  },
  "orig_nbformat": 4
 },
 "nbformat": 4,
 "nbformat_minor": 2
}
