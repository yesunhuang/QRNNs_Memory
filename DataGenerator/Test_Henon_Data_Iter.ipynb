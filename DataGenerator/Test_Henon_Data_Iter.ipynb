{
 "cells": [
  {
   "cell_type": "markdown",
   "metadata": {},
   "source": [
    "# Test Henon Map Data Iter"
   ]
  },
  {
   "cell_type": "markdown",
   "metadata": {},
   "source": [
    "This is a notebook for testing the Henon Map Data Iter"
   ]
  },
  {
   "cell_type": "markdown",
   "metadata": {},
   "source": [
    "## Import everything"
   ]
  },
  {
   "cell_type": "markdown",
   "metadata": {},
   "source": [
    "Modify setting for pytorch"
   ]
  },
  {
   "cell_type": "code",
   "execution_count": 1,
   "metadata": {},
   "outputs": [],
   "source": [
    "import os\n",
    "os.environ['KMP_DUPLICATE_LIB_OK']='True'\n",
    "currentPath=os.getcwd()"
   ]
  },
  {
   "cell_type": "markdown",
   "metadata": {},
   "source": [
    "Import matplotlib and others"
   ]
  },
  {
   "cell_type": "code",
   "execution_count": 2,
   "metadata": {},
   "outputs": [],
   "source": [
    "%matplotlib inline\n",
    "import matplotlib.pyplot as plt"
   ]
  },
  {
   "cell_type": "markdown",
   "metadata": {},
   "source": [
    "Import Henon Map Generator"
   ]
  },
  {
   "cell_type": "code",
   "execution_count": 3,
   "metadata": {},
   "outputs": [],
   "source": [
    "from HenonMapDataGen import HenonMapDataGen"
   ]
  },
  {
   "cell_type": "markdown",
   "metadata": {},
   "source": [
    "## Henon Map Data Iter"
   ]
  },
  {
   "cell_type": "markdown",
   "metadata": {},
   "source": [
    "Set save path"
   ]
  },
  {
   "cell_type": "code",
   "execution_count": 4,
   "metadata": {},
   "outputs": [],
   "source": [
    "savepath=os.path.join(currentPath,'..\\data\\HenonMap\\Test')\n",
    "filename='HenonMapTest3.csv'"
   ]
  },
  {
   "cell_type": "markdown",
   "metadata": {},
   "source": [
    "Read the data"
   ]
  },
  {
   "cell_type": "code",
   "execution_count": 5,
   "metadata": {},
   "outputs": [],
   "source": [
    "hmap=HenonMapDataGen(savepath=savepath)\n",
    "hmap.read_from_CSV(filename)"
   ]
  },
  {
   "cell_type": "code",
   "execution_count": 6,
   "metadata": {},
   "outputs": [
    {
     "name": "stdout",
     "output_type": "stream",
     "text": [
      "Data Info:\n",
      "----------------------------------------\n",
      "Data Size: 1000\n",
      "Data Interval: 5\n",
      "Data ParamA: 1.4, Data ParamB: 0.3\n",
      "Data Bound: -1.2\n",
      "Data HeavyMem: False\n",
      "Data Seed:\n",
      " [0.031695751652105884, 0.051268733966253546, 0.0720924128606658, 0.09583012603424566, 0.008422309710949259, 0.07424665082080417, 0.019262511639782976, 0.044727260803307495, 0.07813401087877536, 0.016359929459163803]\n",
      "----------------------------------------\n"
     ]
    }
   ],
   "source": [
    "print(hmap)"
   ]
  },
  {
   "cell_type": "markdown",
   "metadata": {},
   "source": [
    "Data iter parameters"
   ]
  },
  {
   "cell_type": "code",
   "execution_count": 7,
   "metadata": {},
   "outputs": [],
   "source": [
    "testSetRatio=0.2\n",
    "numStep=10\n",
    "batchSize=2"
   ]
  },
  {
   "cell_type": "markdown",
   "metadata": {},
   "source": [
    "### Test the random data iter"
   ]
  },
  {
   "cell_type": "code",
   "execution_count": 8,
   "metadata": {},
   "outputs": [],
   "source": [
    "trainIter,testIter=hmap.get_data_iter(testSetRatio,numStep,batchSize)"
   ]
  },
  {
   "cell_type": "markdown",
   "metadata": {},
   "source": [
    "TrainIter"
   ]
  },
  {
   "cell_type": "code",
   "execution_count": 9,
   "metadata": {},
   "outputs": [
    {
     "name": "stdout",
     "output_type": "stream",
     "text": [
      "X=tensor([[-0.1582, -0.6401, -0.5113,  0.6177, -0.4648,  0.6520,  0.7376,  0.9310,\n",
      "          0.5551,  0.3538],\n",
      "        [ 1.1956,  0.1217, -0.5267,  0.1151, -0.4034, -0.9697,  1.2198,  0.9334,\n",
      "          1.1915,  1.0560]])\n",
      "Y=tensor([[ 0.0000,  0.0000,  0.0000,  0.0000,  0.0000,  0.3574,  0.0462, -0.3668,\n",
      "          0.7538,  0.6853],\n",
      "        [ 0.0000,  0.0000,  0.0000,  0.0000,  0.0000,  0.0422, -1.0465, -0.3777,\n",
      "         -0.9530, -0.6823]])\n"
     ]
    }
   ],
   "source": [
    "X,Y=next(iter(trainIter))\n",
    "print('X='+str(X))\n",
    "print('Y='+str(Y))"
   ]
  },
  {
   "cell_type": "code",
   "execution_count": 10,
   "metadata": {},
   "outputs": [
    {
     "name": "stdout",
     "output_type": "stream",
     "text": [
      "total number of train data: 78\n"
     ]
    }
   ],
   "source": [
    "print('total number of train data:',len(trainIter))"
   ]
  },
  {
   "cell_type": "markdown",
   "metadata": {},
   "source": [
    "TestIter"
   ]
  },
  {
   "cell_type": "code",
   "execution_count": 11,
   "metadata": {},
   "outputs": [
    {
     "name": "stdout",
     "output_type": "stream",
     "text": [
      "X=tensor([[ 0.7316, -0.2637, -0.6454,  0.5996,  0.3624,  0.4088,  1.2010,  0.7286,\n",
      "          0.4250,  1.0249],\n",
      "        [-0.9531, -1.2000,  0.6519,  0.7901,  1.1359,  0.0734, -0.6433,  0.3576,\n",
      "         -0.0564, -0.8996]])\n",
      "Y=tensor([[ 0.0000,  0.0000,  0.0000,  0.0000,  0.0000,  0.9855, -1.0985,  0.0632,\n",
      "          0.9270, -0.3618],\n",
      "        [ 0.0000,  0.0000,  0.0000,  0.0000,  0.0000,  0.7065,  0.0606,  1.0166,\n",
      "          1.2326,  0.2077]])\n"
     ]
    }
   ],
   "source": [
    "X,Y=next(iter(testIter))\n",
    "print('X='+str(X))\n",
    "print('Y='+str(Y))"
   ]
  },
  {
   "cell_type": "code",
   "execution_count": 12,
   "metadata": {},
   "outputs": [
    {
     "name": "stdout",
     "output_type": "stream",
     "text": [
      "total number of test data: 19\n"
     ]
    }
   ],
   "source": [
    "print('total number of test data:',len(testIter))"
   ]
  },
  {
   "cell_type": "markdown",
   "metadata": {},
   "source": [
    "Test the sequential data iter"
   ]
  },
  {
   "cell_type": "markdown",
   "metadata": {},
   "source": []
  }
 ],
 "metadata": {
  "interpreter": {
   "hash": "8d86c190dfcadcdaa67edec4a1ea82702241987b5b1f320c920d3d4ca36fee5b"
  },
  "kernelspec": {
   "display_name": "Python 3.8.3 ('base')",
   "language": "python",
   "name": "python3"
  },
  "language_info": {
   "codemirror_mode": {
    "name": "ipython",
    "version": 3
   },
   "file_extension": ".py",
   "mimetype": "text/x-python",
   "name": "python",
   "nbconvert_exporter": "python",
   "pygments_lexer": "ipython3",
   "version": "3.8.3"
  },
  "orig_nbformat": 4
 },
 "nbformat": 4,
 "nbformat_minor": 2
}
