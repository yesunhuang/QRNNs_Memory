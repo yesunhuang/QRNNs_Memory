{
 "cells": [
  {
   "cell_type": "markdown",
   "metadata": {},
   "source": [
    "# Test Henon Map Data Iter"
   ]
  },
  {
   "cell_type": "markdown",
   "metadata": {},
   "source": [
    "This is a notebook for testing the Henon Map Data Iter"
   ]
  },
  {
   "cell_type": "markdown",
   "metadata": {},
   "source": [
    "## Import everything"
   ]
  },
  {
   "cell_type": "markdown",
   "metadata": {},
   "source": [
    "Modify setting for pytorch"
   ]
  },
  {
   "cell_type": "code",
   "execution_count": 1,
   "metadata": {},
   "outputs": [],
   "source": [
    "import os\n",
    "os.environ['KMP_DUPLICATE_LIB_OK']='True'\n",
    "currentPath=os.getcwd()"
   ]
  },
  {
   "cell_type": "markdown",
   "metadata": {},
   "source": [
    "Import matplotlib and others"
   ]
  },
  {
   "cell_type": "code",
   "execution_count": 2,
   "metadata": {},
   "outputs": [],
   "source": [
    "%matplotlib inline\n",
    "import matplotlib.pyplot as plt"
   ]
  },
  {
   "cell_type": "markdown",
   "metadata": {},
   "source": [
    "Import Henon Map Generator"
   ]
  },
  {
   "cell_type": "code",
   "execution_count": 3,
   "metadata": {},
   "outputs": [],
   "source": [
    "from HenonMapDataGen import HenonMapDataGen"
   ]
  },
  {
   "cell_type": "markdown",
   "metadata": {},
   "source": [
    "## Henon Map Data Iter"
   ]
  },
  {
   "cell_type": "markdown",
   "metadata": {},
   "source": [
    "Set save path"
   ]
  },
  {
   "cell_type": "code",
   "execution_count": 4,
   "metadata": {},
   "outputs": [],
   "source": [
    "savepath=os.path.join(currentPath,'..\\data\\HenonMap\\Test')\n",
    "filename='HenonMapTest3.csv'"
   ]
  },
  {
   "cell_type": "markdown",
   "metadata": {},
   "source": [
    "Read the data"
   ]
  },
  {
   "cell_type": "code",
   "execution_count": 5,
   "metadata": {},
   "outputs": [],
   "source": [
    "hmap=HenonMapDataGen(savepath=savepath)\n",
    "hmap.read_from_CSV(filename)"
   ]
  },
  {
   "cell_type": "code",
   "execution_count": 6,
   "metadata": {},
   "outputs": [
    {
     "name": "stdout",
     "output_type": "stream",
     "text": [
      "Data Info:\n",
      "----------------------------------------\n",
      "Data Size: 1000\n",
      "Data Interval: 5\n",
      "Data ParamA: 1.4, Data ParamB: 0.3\n",
      "Data Bound: -1.2\n",
      "Data HeavyMem: False\n",
      "Data Seed:\n",
      " [0.031695751652105884, 0.051268733966253546, 0.0720924128606658, 0.09583012603424566, 0.008422309710949259, 0.07424665082080417, 0.019262511639782976, 0.044727260803307495, 0.07813401087877536, 0.016359929459163803]\n",
      "----------------------------------------\n"
     ]
    }
   ],
   "source": [
    "print(hmap)"
   ]
  },
  {
   "cell_type": "markdown",
   "metadata": {},
   "source": [
    "Data iter parameters"
   ]
  },
  {
   "cell_type": "code",
   "execution_count": 7,
   "metadata": {},
   "outputs": [],
   "source": [
    "testSetRatio=0.2\n",
    "numStep=10\n",
    "batchSize=2"
   ]
  },
  {
   "cell_type": "markdown",
   "metadata": {},
   "source": [
    "### Test the random data iter"
   ]
  },
  {
   "cell_type": "code",
   "execution_count": 8,
   "metadata": {},
   "outputs": [],
   "source": [
    "trainIter,testIter=hmap.get_data_iter(testSetRatio,numStep,batchSize)"
   ]
  },
  {
   "cell_type": "markdown",
   "metadata": {},
   "source": [
    "TrainIter"
   ]
  },
  {
   "cell_type": "code",
   "execution_count": 9,
   "metadata": {},
   "outputs": [
    {
     "name": "stdout",
     "output_type": "stream",
     "text": [
      "X=tensor([[-0.0546, -0.8269,  1.2203,  0.5509,  0.5948,  1.2726,  0.3755, -1.0486,\n",
      "          0.7237,  0.6997],\n",
      "        [ 0.5200,  1.0611, -0.9897,  1.2203, -0.5874,  0.7441, -0.6957, -0.0223,\n",
      "         -1.1532,  0.8222]])\n",
      "Y=tensor([[ 0.0000,  0.0000,  0.0000,  0.0000,  0.0000, -1.2000,  0.5545, -0.1732,\n",
      "          0.4320,  0.4930],\n",
      "        [ 0.0000,  0.0000,  0.0000,  0.0000,  0.0000,  0.3808,  0.6407,  0.7024,\n",
      "         -0.4956, -0.1226]])\n"
     ]
    }
   ],
   "source": [
    "X,Y=next(iter(trainIter))\n",
    "print('X='+str(X))\n",
    "print('Y='+str(Y))"
   ]
  },
  {
   "cell_type": "code",
   "execution_count": 10,
   "metadata": {},
   "outputs": [
    {
     "name": "stdout",
     "output_type": "stream",
     "text": [
      "total number of train data: 79\n"
     ]
    }
   ],
   "source": [
    "print('total number of train data:',len(trainIter))"
   ]
  },
  {
   "cell_type": "markdown",
   "metadata": {},
   "source": [
    "TestIter"
   ]
  },
  {
   "cell_type": "code",
   "execution_count": 11,
   "metadata": {},
   "outputs": [
    {
     "name": "stdout",
     "output_type": "stream",
     "text": [
      "X=tensor([[-0.6433,  0.3576, -0.0564, -0.8996,  0.7065,  0.0606,  1.0166,  1.2326,\n",
      "          0.2077,  0.3232],\n",
      "        [ 0.9615,  1.2190, -0.4561, -0.5473, -0.3310, -0.1815, -1.0434,  1.0251,\n",
      "          0.9052,  1.1507]])\n",
      "Y=tensor([[ 0.0000,  0.0000,  0.0000,  0.0000,  0.0000,  0.8019, -0.3395, -1.1439,\n",
      "          0.6697,  1.0658],\n",
      "        [ 0.0000,  0.0000,  0.0000,  0.0000,  0.0000,  1.2423, -0.1584, -0.6079,\n",
      "         -0.3113, -0.9531]])\n"
     ]
    }
   ],
   "source": [
    "X,Y=next(iter(testIter))\n",
    "print('X='+str(X))\n",
    "print('Y='+str(Y))"
   ]
  },
  {
   "cell_type": "code",
   "execution_count": 12,
   "metadata": {},
   "outputs": [
    {
     "name": "stdout",
     "output_type": "stream",
     "text": [
      "total number of test data: 20\n"
     ]
    }
   ],
   "source": [
    "print('total number of test data:',len(testIter))"
   ]
  },
  {
   "cell_type": "markdown",
   "metadata": {},
   "source": [
    "Visualize the data"
   ]
  },
  {
   "cell_type": "code",
   "execution_count": 13,
   "metadata": {},
   "outputs": [
    {
     "data": {
      "text/plain": [
       "Text(0, 0.5, 'Y')"
      ]
     },
     "execution_count": 13,
     "metadata": {},
     "output_type": "execute_result"
    },
    {
     "data": {
      "image/png": "[encoded data removed]",
      "text/plain": [
       "<Figure size 504x216 with 2 Axes>"
      ]
     },
     "metadata": {
      "needs_background": "light"
     },
     "output_type": "display_data"
    }
   ],
   "source": [
    "#Visualize the data via matplotlib\n",
    "fig,axes=plt.subplots(1,2,figsize=(7,3))\n",
    "for X,Y in trainIter:\n",
    "    axes[0].plot(X,Y,'.')\n",
    "axes[0].set_title('train data')\n",
    "axes[0].set_xlabel('X')\n",
    "axes[0].set_ylabel('Y')\n",
    "for X,Y in testIter:\n",
    "    axes[1].plot(X,Y,'.')\n",
    "axes[1].set_title('test data')\n",
    "axes[1].set_xlabel('X')\n",
    "axes[1].set_ylabel('Y')"
   ]
  },
  {
   "cell_type": "markdown",
   "metadata": {},
   "source": [
    "### Test the sequential data iter"
   ]
  },
  {
   "cell_type": "code",
   "execution_count": 14,
   "metadata": {},
   "outputs": [],
   "source": [
    "trainIter,testIter=hmap.get_data_iter(testSetRatio,numStep,batchSize,mask=0,shuffle=False)"
   ]
  },
  {
   "cell_type": "markdown",
   "metadata": {},
   "source": [
    "TrainIter"
   ]
  },
  {
   "cell_type": "code",
   "execution_count": 15,
   "metadata": {},
   "outputs": [
    {
     "name": "stdout",
     "output_type": "stream",
     "text": [
      "Data1\n",
      "X=tensor([[ 0.0958,  0.0084,  0.0742,  0.0193,  0.0447,  0.0781,  0.0164,  1.0018,\n",
      "          1.0149,  1.0188],\n",
      "        [ 0.0676, -1.1059,  0.6291,  0.4568, -0.3446,  0.8018, -0.3513,  0.6204,\n",
      "          0.9226,  1.1096]])\n",
      "Y=tensor([[ 0.0000,  0.0000,  1.0018,  1.0149,  1.0188,  1.0202,  1.0022, -0.3827,\n",
      "         -0.4361, -0.4398],\n",
      "        [ 0.8018, -0.3513,  0.6204,  0.9226,  1.1096,  0.1203,  0.4955,  0.6499,\n",
      "         -0.0546, -0.8269]])\n",
      "Data2\n",
      "X=tensor([[ 1.0202,  1.0022, -0.3827, -0.4361, -0.4398, -0.4337, -0.4011,  1.0954,\n",
      "          1.0382,  1.0349],\n",
      "        [ 0.1203,  0.4955,  0.6499, -0.0546, -0.8269,  1.2203,  0.5509,  0.5948,\n",
      "          1.2726,  0.3755]])\n",
      "Y=tensor([[-0.4337, -0.4011,  1.0954,  1.0382,  1.0349,  1.0427,  1.0754, -0.7948,\n",
      "         -0.6397, -0.6313],\n",
      "        [ 1.2203,  0.5509,  0.5948,  1.2726,  0.3755, -1.0486,  0.7237,  0.6997,\n",
      "         -1.2000,  0.5545]])\n",
      "Data3\n",
      "X=tensor([[ 1.0427,  1.0754, -0.7948, -0.6397, -0.6313, -0.6523, -0.7394,  0.4442,\n",
      "          0.7385,  0.7526],\n",
      "        [-1.0486,  0.7237,  0.6997, -1.2000,  0.5545, -0.1732,  0.4320,  0.4930,\n",
      "         -0.6342,  0.6822]])\n",
      "Y=tensor([[-0.6523, -0.7394,  0.4442,  0.7385,  0.7526,  0.7171,  0.5573,  0.4853,\n",
      "          0.0445,  0.0177],\n",
      "        [-0.1732,  0.4320,  0.4930, -0.6342,  0.6822,  0.6434,  0.9559,  0.8697,\n",
      "          0.0769,  0.5149]])\n"
     ]
    }
   ],
   "source": [
    "i=0\n",
    "for X,Y in trainIter:\n",
    "    i+=1\n",
    "    print('Data'+str(i))\n",
    "    print('X='+str(X))\n",
    "    print('Y='+str(Y))\n",
    "    if i==3:\n",
    "        break"
   ]
  },
  {
   "cell_type": "code",
   "execution_count": 16,
   "metadata": {},
   "outputs": [
    {
     "name": "stdout",
     "output_type": "stream",
     "text": [
      "78\n"
     ]
    }
   ],
   "source": [
    "print(len(trainIter))"
   ]
  },
  {
   "cell_type": "markdown",
   "metadata": {},
   "source": [
    "TestIter"
   ]
  },
  {
   "cell_type": "code",
   "execution_count": 17,
   "metadata": {},
   "outputs": [
    {
     "name": "stdout",
     "output_type": "stream",
     "text": [
      "Data1\n",
      "X=tensor([[-0.4437, -1.0683,  0.1348,  0.5275,  0.9945,  1.0393, -0.2389,  0.6959,\n",
      "          0.7316, -0.2637],\n",
      "        [ 1.1584,  1.2193,  0.2592, -1.2000, -0.9447, -0.9750, -1.0445,  1.1463,\n",
      "         -0.6344,  0.0949]])\n",
      "Y=tensor([[ 1.0393, -0.2389,  0.6959,  0.7316, -0.2637, -0.6454,  0.5996,  0.3624,\n",
      "          0.4088,  1.2010],\n",
      "        [-0.9750, -1.0445,  1.1463, -0.6344,  0.0949,  0.0165, -0.1615, -0.7618,\n",
      "          0.0765,  0.7040]])\n",
      "Data2\n",
      "X=tensor([[-0.6454,  0.5996,  0.3624,  0.4088,  1.2010,  0.7286,  0.4250,  1.0249,\n",
      "          0.9855, -1.0985],\n",
      "        [ 0.0165, -0.1615, -0.7618,  0.0765,  0.7040,  0.7071,  0.6501,  0.5315,\n",
      "          0.8015,  0.3346]])\n",
      "Y=tensor([[ 0.7286,  0.4250,  1.0249,  0.9855, -1.0985,  0.0632,  0.9270, -0.3618,\n",
      "         -0.2371, -0.3290],\n",
      "        [ 0.7071,  0.6501,  0.5315,  0.8015,  0.3346,  0.3050,  0.3598,  0.3760,\n",
      "          0.1237,  1.0544]])\n",
      "Data3\n",
      "X=tensor([[ 0.0632,  0.9270, -0.3618, -0.2371, -0.3290,  1.2130, -0.0756,  1.1242,\n",
      "          1.2170,  0.5189],\n",
      "        [ 0.3050,  0.3598,  0.3760,  0.1237,  1.0544,  1.0819,  1.0138,  0.9615,\n",
      "          1.2190, -0.4561]])\n",
      "Y=tensor([[ 1.2130, -0.0756,  1.1242,  1.2170,  0.5189, -1.0409,  1.2701, -0.8778,\n",
      "         -1.1445,  0.5244],\n",
      "        [ 1.0819,  1.0138,  0.9615,  1.2190, -0.4561, -0.5473, -0.3310, -0.1815,\n",
      "         -1.0434,  1.0251]])\n"
     ]
    }
   ],
   "source": [
    "i=0\n",
    "for X,Y in testIter:\n",
    "    i+=1\n",
    "    print('Data'+str(i))\n",
    "    print('X='+str(X))\n",
    "    print('Y='+str(Y))\n",
    "    if i==3:\n",
    "        break"
   ]
  },
  {
   "cell_type": "code",
   "execution_count": 18,
   "metadata": {},
   "outputs": [
    {
     "name": "stdout",
     "output_type": "stream",
     "text": [
      "18\n"
     ]
    }
   ],
   "source": [
    "print(len(testIter))"
   ]
  },
  {
   "cell_type": "markdown",
   "metadata": {},
   "source": [
    "Visualize the data"
   ]
  },
  {
   "cell_type": "code",
   "execution_count": 19,
   "metadata": {},
   "outputs": [
    {
     "data": {
      "text/plain": [
       "Text(0, 0.5, 'Y')"
      ]
     },
     "execution_count": 19,
     "metadata": {},
     "output_type": "execute_result"
    },
    {
     "data": {
      "image/png": "[encoded data removed]",
      "text/plain": [
       "<Figure size 504x216 with 2 Axes>"
      ]
     },
     "metadata": {
      "needs_background": "light"
     },
     "output_type": "display_data"
    }
   ],
   "source": [
    "#Visualize the data via matplotlib\n",
    "fig,axes=plt.subplots(1,2,figsize=(7,3))\n",
    "for X,Y in trainIter:\n",
    "    axes[0].plot(X.flatten(),Y.flatten(),'.')\n",
    "axes[0].set_title('Training data')\n",
    "axes[0].set_xlabel('X')\n",
    "axes[0].set_ylabel('Y')\n",
    "\n",
    "for X,Y in testIter:\n",
    "    axes[1].plot(X.flatten(),Y.flatten(),'.')\n",
    "axes[1].set_title('Test data')\n",
    "axes[1].set_xlabel('X')\n",
    "axes[1].set_ylabel('Y')"
   ]
  },
  {
   "cell_type": "markdown",
   "metadata": {},
   "source": [
    "# End of the test"
   ]
  }
 ],
 "metadata": {
  "interpreter": {
   "hash": "8d86c190dfcadcdaa67edec4a1ea82702241987b5b1f320c920d3d4ca36fee5b"
  },
  "kernelspec": {
   "display_name": "Python 3.8.3 ('base')",
   "language": "python",
   "name": "python3"
  },
  "language_info": {
   "codemirror_mode": {
    "name": "ipython",
    "version": 3
   },
   "file_extension": ".py",
   "mimetype": "text/x-python",
   "name": "python",
   "nbconvert_exporter": "python",
   "pygments_lexer": "ipython3",
   "version": "3.8.3"
  },
  "orig_nbformat": 4
 },
 "nbformat": 4,
 "nbformat_minor": 2
}
