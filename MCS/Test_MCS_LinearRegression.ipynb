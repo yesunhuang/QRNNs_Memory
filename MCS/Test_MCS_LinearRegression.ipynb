{
 "cells": [
  {
   "cell_type": "markdown",
   "metadata": {},
   "source": [
    "# Test MCS with Linear Regression"
   ]
  },
  {
   "cell_type": "markdown",
   "metadata": {},
   "source": [
    "This is a notebook for testing MCS with linear regression"
   ]
  },
  {
   "cell_type": "markdown",
   "metadata": {},
   "source": [
    "## Import everything"
   ]
  },
  {
   "cell_type": "markdown",
   "metadata": {},
   "source": [
    "modify setting for pytorch"
   ]
  },
  {
   "cell_type": "code",
   "execution_count": 1,
   "metadata": {},
   "outputs": [],
   "source": [
    "import os\n",
    "os.environ['KMP_DUPLICATE_LIB_OK']='TRUE'"
   ]
  },
  {
   "cell_type": "markdown",
   "metadata": {},
   "source": [
    "import torch and other standard modules"
   ]
  },
  {
   "cell_type": "code",
   "execution_count": 2,
   "metadata": {},
   "outputs": [],
   "source": [
    "%matplotlib inline\n",
    "import torch\n",
    "from torch.utils import data\n",
    "import matplotlib.pyplot as plt\n",
    "from matplotlib.ticker import FormatStrFormatter"
   ]
  },
  {
   "cell_type": "markdown",
   "metadata": {},
   "source": [
    "import MCS and CostFunc"
   ]
  },
  {
   "cell_type": "code",
   "execution_count": 3,
   "metadata": {},
   "outputs": [],
   "source": [
    "from MCS import MCSOptimizer\n",
    "from CostFunc import GradFreeMSELoss\n",
    "from CostFunc import StandardSNN"
   ]
  },
  {
   "cell_type": "markdown",
   "metadata": {},
   "source": [
    "## Linear Regression Testing"
   ]
  },
  {
   "cell_type": "markdown",
   "metadata": {},
   "source": [
    "### Generate training data"
   ]
  },
  {
   "cell_type": "code",
   "execution_count": 4,
   "metadata": {},
   "outputs": [],
   "source": [
    "def synthetic_data(w, b, num_examples):  \n",
    "    \"\"\"y = Xw + b + noise\"\"\"\n",
    "    X = torch.normal(0, 1, (num_examples, len(w)))\n",
    "    y = torch.matmul(X, w) + b\n",
    "    y += torch.normal(0, 0.01, y.shape)\n",
    "    return X, y.reshape((-1, 1))"
   ]
  },
  {
   "cell_type": "code",
   "execution_count": 5,
   "metadata": {},
   "outputs": [],
   "source": [
    "true_w = torch.tensor([2, -3.4])\n",
    "true_b = 4.2\n",
    "features, labels = synthetic_data(true_w, true_b, 1000)"
   ]
  },
  {
   "cell_type": "code",
   "execution_count": 6,
   "metadata": {},
   "outputs": [
    {
     "name": "stdout",
     "output_type": "stream",
     "text": [
      "features: tensor([-0.9387, -0.4471]) \n",
      "label: tensor([3.8541])\n"
     ]
    }
   ],
   "source": [
    "print('features:', features[0],'\\nlabel:', labels[0])"
   ]
  },
  {
   "cell_type": "code",
   "execution_count": 7,
   "metadata": {},
   "outputs": [
    {
     "data": {
      "image/png": "[encoded data removed]",
      "text/plain": [
       "<Figure size 288x216 with 1 Axes>"
      ]
     },
     "metadata": {
      "needs_background": "light"
     },
     "output_type": "display_data"
    }
   ],
   "source": [
    "fig, axes = plt.subplots(1,1,figsize=(4,3))\n",
    "axes.scatter(features[:, (1)].detach().numpy(), labels.detach().numpy(),s=1.5);"
   ]
  },
  {
   "cell_type": "markdown",
   "metadata": {},
   "source": [
    "### Reading the data via torch API"
   ]
  },
  {
   "cell_type": "code",
   "execution_count": 8,
   "metadata": {},
   "outputs": [],
   "source": [
    "def load_array(data_arrays, batch_size, is_train=True):  #@save\n",
    "    \"\"\"Generate a PyTorch data iterator\"\"\"\n",
    "    dataset = data.TensorDataset(*data_arrays)\n",
    "    return data.DataLoader(dataset, batch_size, shuffle=is_train)"
   ]
  },
  {
   "cell_type": "code",
   "execution_count": 9,
   "metadata": {},
   "outputs": [],
   "source": [
    "batch_size = 10\n",
    "data_iter = load_array((features, labels), batch_size)"
   ]
  },
  {
   "cell_type": "code",
   "execution_count": 10,
   "metadata": {},
   "outputs": [
    {
     "data": {
      "text/plain": [
       "[tensor([[ 0.3312, -0.9121],\n",
       "         [-1.3058,  0.2278],\n",
       "         [-0.2058, -0.4896],\n",
       "         [ 0.9091, -0.2327],\n",
       "         [-0.0031, -0.3423],\n",
       "         [ 0.1485, -0.0396],\n",
       "         [-0.4109, -0.5763],\n",
       "         [-0.1027,  2.2382],\n",
       "         [ 0.1895, -1.0077],\n",
       "         [-0.0167,  0.0122]]),\n",
       " tensor([[ 7.9797],\n",
       "         [ 0.8206],\n",
       "         [ 5.4419],\n",
       "         [ 6.8030],\n",
       "         [ 5.3621],\n",
       "         [ 4.6307],\n",
       "         [ 5.3476],\n",
       "         [-3.6196],\n",
       "         [ 8.0064],\n",
       "         [ 4.1262]])]"
      ]
     },
     "execution_count": 10,
     "metadata": {},
     "output_type": "execute_result"
    }
   ],
   "source": [
    "next(iter(data_iter))"
   ]
  },
  {
   "cell_type": "markdown",
   "metadata": {},
   "source": [
    "## Define a model"
   ]
  },
  {
   "cell_type": "markdown",
   "metadata": {},
   "source": [
    "### Function for initialize weight function"
   ]
  },
  {
   "cell_type": "code",
   "execution_count": 11,
   "metadata": {},
   "outputs": [],
   "source": [
    "def getParams(num_inputs,num_outputs):\n",
    "    w=torch.normal(0,0.01,size=(num_inputs,num_outputs),requires_grad=True)\n",
    "    b=torch.zeros(1,requires_grad=True)\n",
    "    return (w,b)"
   ]
  },
  {
   "cell_type": "markdown",
   "metadata": {},
   "source": [
    "### Linear Net Model"
   ]
  },
  {
   "cell_type": "code",
   "execution_count": 12,
   "metadata": {},
   "outputs": [],
   "source": [
    "class LinearNet(StandardSNN):\n",
    "    '''a standard net with linear regression'''\n",
    "    def __init__(self,getParams,inputSize,numHiddens):\n",
    "        self.params=getParams(inputSize,numHiddens)\n",
    "\n",
    "    def __call__(self,X:torch.Tensor):\n",
    "        return self.call_with_weight(X,self.params)\n",
    "\n",
    "    def call_with_weight(self,X:torch.Tensor,weight:tuple):\n",
    "        w,b=weight\n",
    "        return torch.matmul(X,w)+b"
   ]
  },
  {
   "cell_type": "code",
   "execution_count": 13,
   "metadata": {},
   "outputs": [
    {
     "name": "stdout",
     "output_type": "stream",
     "text": [
      "(tensor([[ 0.0048],\n",
      "        [-0.0023]], requires_grad=True), tensor([0.], requires_grad=True))\n",
      "(tensor([[ 0.0048],\n",
      "        [-0.0023]], requires_grad=True), tensor([0.], requires_grad=True))\n"
     ]
    }
   ],
   "source": [
    "net=LinearNet(getParams,2,1)\n",
    "print(net.params)\n",
    "rawParams=()\n",
    "for param in net.params:\n",
    "    rawParams+=(param.clone().detach().requires_grad_(True),)\n",
    "print(rawParams)"
   ]
  },
  {
   "cell_type": "markdown",
   "metadata": {},
   "source": [
    "## Train a model"
   ]
  },
  {
   "cell_type": "markdown",
   "metadata": {},
   "source": [
    "### Set epochs"
   ]
  },
  {
   "cell_type": "code",
   "execution_count": 14,
   "metadata": {},
   "outputs": [],
   "source": [
    "num_epochs=5"
   ]
  },
  {
   "cell_type": "markdown",
   "metadata": {},
   "source": [
    "### Loss function"
   ]
  },
  {
   "cell_type": "code",
   "execution_count": 15,
   "metadata": {},
   "outputs": [],
   "source": [
    "lossFunc=GradFreeMSELoss(net,reduction='none')"
   ]
  },
  {
   "cell_type": "markdown",
   "metadata": {},
   "source": [
    "### MCS optimizer"
   ]
  },
  {
   "cell_type": "code",
   "execution_count": 16,
   "metadata": {},
   "outputs": [],
   "source": [
    "mcs=MCSOptimizer(net.params,lossFunc,data_iter,\\\n",
    "                    maxLevyStepSize=0.3,\\\n",
    "                    nestNum=6)"
   ]
  },
  {
   "cell_type": "code",
   "execution_count": 17,
   "metadata": {},
   "outputs": [
    {
     "name": "stdout",
     "output_type": "stream",
     "text": [
      "epoch 0, loss 34.047985\n",
      "epoch 1, loss 0.018352\n",
      "epoch 2, loss 0.003239\n",
      "epoch 3, loss 0.001012\n",
      "epoch 4, loss 0.000164\n",
      "epoch 5, loss 0.000164\n"
     ]
    }
   ],
   "source": [
    "l_epochs_mcs=[float(lossFunc(net(features), labels).mean())]\n",
    "print(f'epoch 0, loss {l_epochs_mcs[0]:f}')\n",
    "for epoch in range(num_epochs):\n",
    "    mcs.step()\n",
    "    with torch.no_grad():\n",
    "        train_l = lossFunc(net(features), labels)\n",
    "        l_epochs_mcs.append(float(train_l.mean()))\n",
    "        print(f'epoch {epoch + 1}, loss {l_epochs_mcs[epoch+1]:f}')"
   ]
  },
  {
   "cell_type": "code",
   "execution_count": 18,
   "metadata": {},
   "outputs": [
    {
     "name": "stdout",
     "output_type": "stream",
     "text": [
      "tensor([[ 1.9969],\n",
      "        [-3.3996]], requires_grad=True) tensor([4.2076], requires_grad=True)\n",
      "loss of w: tensor([ 0.0031, -0.0004], grad_fn=<SubBackward0>)\n",
      "loss of b: tensor([-0.0076], grad_fn=<RsubBackward1>)\n"
     ]
    }
   ],
   "source": [
    "w,b=net.params\n",
    "print(w,b)\n",
    "print(f'loss of w: {true_w - w.reshape(true_w.shape)}')\n",
    "print(f'loss of b: {true_b - b}')"
   ]
  },
  {
   "cell_type": "markdown",
   "metadata": {},
   "source": [
    "### Standard sgd"
   ]
  },
  {
   "cell_type": "code",
   "execution_count": 19,
   "metadata": {},
   "outputs": [
    {
     "name": "stdout",
     "output_type": "stream",
     "text": [
      "(tensor([[ 0.0048],\n",
      "        [-0.0023]], requires_grad=True), tensor([0.], requires_grad=True))\n"
     ]
    }
   ],
   "source": [
    "net.params=rawParams\n",
    "print(net.params)"
   ]
  },
  {
   "cell_type": "code",
   "execution_count": 21,
   "metadata": {},
   "outputs": [],
   "source": [
    "def sgd(params, lr, batch_size):  \n",
    "    \"\"\"sgd\"\"\"\n",
    "    with torch.no_grad():\n",
    "        for param in params:\n",
    "            param -= lr * param.grad / batch_size\n",
    "            param.grad.zero_()"
   ]
  },
  {
   "cell_type": "code",
   "execution_count": 22,
   "metadata": {},
   "outputs": [],
   "source": [
    "lr = 0.03"
   ]
  },
  {
   "cell_type": "code",
   "execution_count": 23,
   "metadata": {},
   "outputs": [
    {
     "name": "stdout",
     "output_type": "stream",
     "text": [
      "epoch 0, loss 34.047985\n",
      "epoch 1, loss 0.000187\n",
      "epoch 2, loss 0.000096\n",
      "epoch 3, loss 0.000096\n",
      "epoch 4, loss 0.000096\n",
      "epoch 5, loss 0.000096\n"
     ]
    }
   ],
   "source": [
    "l_epochs_sgd=[]\n",
    "l_epochs_sgd=[float(lossFunc(net(features), labels).mean())]\n",
    "print(f'epoch 0, loss {l_epochs_sgd[0]:f}')\n",
    "for epoch in range(num_epochs):\n",
    "    for X, y in data_iter:\n",
    "        l = lossFunc(net(X), y)\n",
    "        l.sum().backward()\n",
    "        sgd(net.params, lr, batch_size) \n",
    "    with torch.no_grad():\n",
    "        train_l = lossFunc(net(features), labels)\n",
    "        l_epochs_sgd.append(float(train_l.mean()))\n",
    "        print(f'epoch {epoch + 1}, loss {l_epochs_sgd[epoch+1]:f}')"
   ]
  },
  {
   "cell_type": "code",
   "execution_count": 24,
   "metadata": {},
   "outputs": [
    {
     "name": "stdout",
     "output_type": "stream",
     "text": [
      "tensor([[ 2.0004],\n",
      "        [-3.4000]], requires_grad=True) tensor([4.2005], requires_grad=True)\n",
      "loss of w: tensor([-4.2057e-04,  4.3154e-05], grad_fn=<SubBackward0>)\n",
      "loss of b: tensor([-0.0005], grad_fn=<RsubBackward1>)\n"
     ]
    }
   ],
   "source": [
    "w,b=net.params\n",
    "print(w,b)\n",
    "print(f'loss of w: {true_w - w.reshape(true_w.shape)}')\n",
    "print(f'loss of b: {true_b - b}')"
   ]
  },
  {
   "cell_type": "markdown",
   "metadata": {},
   "source": [
    "## Visualize the Result"
   ]
  },
  {
   "cell_type": "code",
   "execution_count": 25,
   "metadata": {},
   "outputs": [
    {
     "data": {
      "image/png": "[encoded data removed]",
      "text/plain": [
       "<Figure size 288x216 with 1 Axes>"
      ]
     },
     "metadata": {
      "needs_background": "light"
     },
     "output_type": "display_data"
    }
   ],
   "source": [
    "fig, axes = plt.subplots(1, 1, figsize=(4,3))\n",
    "\n",
    "axes.semilogy(range(0,num_epochs+1),l_epochs_sgd,linestyle='-.',label='SGD')\n",
    "axes.semilogy(range(0,num_epochs+1),l_epochs_mcs,linestyle='-',label='MCS')\n",
    "\n",
    "\n",
    "axes.set_xlabel('Epochs')\n",
    "axes.set_ylabel('Loss')\n",
    "\n",
    "axes.xaxis.set_major_formatter(FormatStrFormatter('%d'))\n",
    "\n",
    "axes.legend(loc=0,frameon=False);"
   ]
  }
 ],
 "metadata": {
  "interpreter": {
   "hash": "73d820bdd2fa3905a9770c5be79369f5a82d3919d29629cbd0e5b49da3598042"
  },
  "kernelspec": {
   "display_name": "Python 3.8.5 ('qcls_dev')",
   "language": "python",
   "name": "python3"
  },
  "language_info": {
   "codemirror_mode": {
    "name": "ipython",
    "version": 3
   },
   "file_extension": ".py",
   "mimetype": "text/x-python",
   "name": "python",
   "nbconvert_exporter": "python",
   "pygments_lexer": "ipython3",
   "version": "3.8.3"
  },
  "orig_nbformat": 4
 },
 "nbformat": 4,
 "nbformat_minor": 2
}
