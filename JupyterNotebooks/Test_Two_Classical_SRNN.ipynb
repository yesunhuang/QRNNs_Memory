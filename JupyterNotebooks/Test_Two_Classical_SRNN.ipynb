{
 "cells": [
  {
   "cell_type": "markdown",
   "metadata": {},
   "source": [
    "# Test Twe for the Classical SRNN"
   ]
  },
  {
   "cell_type": "markdown",
   "metadata": {},
   "source": [
    "This is a notebook for testing the classical SRNN."
   ]
  },
  {
   "cell_type": "markdown",
   "metadata": {},
   "source": [
    "## Import everything"
   ]
  },
  {
   "cell_type": "markdown",
   "metadata": {},
   "source": [
    "Modify setting for pytorch"
   ]
  },
  {
   "cell_type": "code",
   "execution_count": 1,
   "metadata": {},
   "outputs": [],
   "source": [
    "import os\n",
    "os.environ['KMP_DUPLICATE_LIB_OK']='True'\n",
    "currentPath=os.getcwd()"
   ]
  },
  {
   "cell_type": "markdown",
   "metadata": {},
   "source": [
    "Import matplotlib and others"
   ]
  },
  {
   "cell_type": "code",
   "execution_count": 2,
   "metadata": {},
   "outputs": [],
   "source": [
    "%matplotlib inline\n",
    "import matplotlib.pyplot as plt\n",
    "import torch"
   ]
  },
  {
   "cell_type": "markdown",
   "metadata": {},
   "source": [
    "Import the classical SRNN and others"
   ]
  },
  {
   "cell_type": "code",
   "execution_count": 3,
   "metadata": {},
   "outputs": [],
   "source": [
    "#Modify path for the notebooks\n",
    "currentPath=os.path.join(currentPath,'..')\n",
    "currentPath=os.path.join(currentPath,'src')\n",
    "os.chdir(currentPath)"
   ]
  },
  {
   "cell_type": "code",
   "execution_count": 4,
   "metadata": {},
   "outputs": [],
   "source": [
    "from DataGenerator.HenonMapDataGen import HenonMapDataGen\n",
    "from ClassicalModels.ClassicalSRNNs import ClassicalSRNN\n",
    "from ClassicalModels.ClassicalSRNNs import SuportFunction\n",
    "from GradientFreeOptimizers.CostFunc import GradFreeMSELoss\n",
    "import GradientFreeOptimizers.Helpers as hp"
   ]
  },
  {
   "cell_type": "markdown",
   "metadata": {},
   "source": [
    "## Test Two"
   ]
  },
  {
   "cell_type": "markdown",
   "metadata": {},
   "source": [
    "### Get the data"
   ]
  },
  {
   "cell_type": "markdown",
   "metadata": {},
   "source": [
    "#### Set save path"
   ]
  },
  {
   "cell_type": "code",
   "execution_count": 5,
   "metadata": {},
   "outputs": [],
   "source": [
    "savepath=os.path.join(currentPath,'..\\data\\HenonMap\\Test')\n",
    "filename='ClassicalSRNNTest2.csv'"
   ]
  },
  {
   "cell_type": "code",
   "execution_count": 6,
   "metadata": {},
   "outputs": [],
   "source": [
    "'''\n",
    "hmap=HenonMapDataGen(n=2,heavyMem=False,savepath=savepath)\n",
    "hmap(10000)\n",
    "hmap.save_to_CSV(filename)\n",
    "''';"
   ]
  },
  {
   "cell_type": "markdown",
   "metadata": {},
   "source": [
    "#### Read the data"
   ]
  },
  {
   "cell_type": "code",
   "execution_count": 7,
   "metadata": {},
   "outputs": [],
   "source": [
    "hmap=HenonMapDataGen(savepath=savepath)\n",
    "hmap.read_from_CSV(filename)"
   ]
  },
  {
   "cell_type": "code",
   "execution_count": 8,
   "metadata": {},
   "outputs": [
    {
     "name": "stdout",
     "output_type": "stream",
     "text": [
      "Data Info:\n",
      "----------------------------------------\n",
      "Data Size: 10000\n",
      "Data Interval: 2\n",
      "Data ParamA: 1.4, Data ParamB: 0.3\n",
      "Data Bound: -1.2\n",
      "Data HeavyMem: False\n",
      "Data Seed:\n",
      " [0.08559870591945942, 0.04131970884614906, 0.02159763002604379, 0.011121474606073043]\n",
      "----------------------------------------\n"
     ]
    }
   ],
   "source": [
    "print(hmap)"
   ]
  },
  {
   "cell_type": "markdown",
   "metadata": {},
   "source": [
    "#### Generate the data iter"
   ]
  },
  {
   "cell_type": "code",
   "execution_count": 9,
   "metadata": {},
   "outputs": [],
   "source": [
    "testSetRatio=0.2\n",
    "numStep=20\n",
    "batchSize=4"
   ]
  },
  {
   "cell_type": "code",
   "execution_count": 10,
   "metadata": {},
   "outputs": [],
   "source": [
    "trainIter,testIter=hmap.get_data_iter(testSetRatio,numStep,batchSize,shuffle=True)"
   ]
  },
  {
   "cell_type": "code",
   "execution_count": 11,
   "metadata": {},
   "outputs": [
    {
     "name": "stdout",
     "output_type": "stream",
     "text": [
      "Train Data Size: 399\n",
      "X= tensor([[ 0.8983, -0.3071, -0.2953,  1.1697,  1.1474, -1.0078, -0.9317, -0.0709,\n",
      "          0.1290,  0.6906,  0.6972,  0.3110,  0.3582,  1.0718,  1.0296, -0.5150,\n",
      "         -0.3765,  0.9502,  1.1104, -0.4185],\n",
      "        [ 1.2571,  0.1667, -1.2000,  0.6862, -0.6389,  0.3909,  0.0686,  0.9919,\n",
      "          0.8018, -0.2603,  0.1206,  1.2027,  1.2202, -1.1033, -1.0481, -0.3434,\n",
      "         -0.1719,  0.5039,  0.6442,  0.5414],\n",
      "        [ 0.3192,  0.4718,  1.0692,  0.8847, -0.5047,  0.0457,  0.9641,  1.2625,\n",
      "         -0.4527, -1.2000,  1.0023, -0.6373, -0.5422,  0.0715,  0.8891,  0.8017,\n",
      "         -0.2693,  0.1217,  1.1652,  1.2198],\n",
      "        [-0.3234,  1.0210,  1.1274, -0.3496, -0.8763,  1.1352,  0.2631, -0.9090,\n",
      "          0.6402,  0.1837,  0.5051,  0.6800,  0.8348,  0.4077,  0.1758,  0.9713,\n",
      "          1.2072, -0.1986, -0.9874,  1.2362]])\n",
      "Y= tensor([[ 0.0000,  0.0000,  1.1474, -1.0078, -0.9317, -0.0709,  0.1290,  0.6906,\n",
      "          0.6972,  0.3110,  0.3582,  1.0718,  1.0296, -0.5150, -0.3765,  0.9502,\n",
      "          1.1104, -0.4185, -0.8390,  1.0398],\n",
      "        [ 0.0000,  0.0000, -0.6389,  0.3909,  0.0686,  0.9919,  0.8018, -0.2603,\n",
      "          0.1206,  1.2027,  1.2202, -1.1033, -1.0481, -0.3434, -0.1719,  0.5039,\n",
      "          0.6442,  0.5414,  0.3674,  0.7408],\n",
      "        [ 0.0000,  0.0000, -0.5047,  0.0457,  0.9641,  1.2625, -0.4527, -1.2000,\n",
      "          1.0023, -0.6373, -0.5422,  0.0715,  0.8891,  0.8017, -0.2693,  0.1217,\n",
      "          1.1652,  1.2198, -0.9815, -1.0465],\n",
      "        [ 0.0000,  0.0000, -0.8763,  1.1352,  0.2631, -0.9090,  0.6402,  0.1837,\n",
      "          0.5051,  0.6800,  0.8348,  0.4077,  0.1758,  0.9713,  1.2072, -0.1986,\n",
      "         -0.9874,  1.2362, -0.0027, -1.1990]])\n"
     ]
    }
   ],
   "source": [
    "X,Y=next(iter(trainIter))\n",
    "print('Train Data Size:',len(trainIter))\n",
    "print('X=',torch.squeeze(X))\n",
    "print('Y=',torch.squeeze(Y))"
   ]
  },
  {
   "cell_type": "code",
   "execution_count": 12,
   "metadata": {},
   "outputs": [
    {
     "name": "stdout",
     "output_type": "stream",
     "text": [
      "Test Data Size: 99\n",
      "X= tensor([[ 0.0739,  1.2701,  0.8016, -1.2000,  0.1226, -0.6350,  1.2194,  0.0755,\n",
      "         -1.0450,  0.8015, -0.1631,  0.1232,  0.6493,  1.2192,  0.3609, -1.0440,\n",
      "          1.0124, -0.1602, -0.3267,  0.6508],\n",
      "        [ 0.1186,  0.8608,  1.2209,  0.0972, -1.0512,  1.2450, -0.1807, -1.1409,\n",
      "          0.6389, -0.4488,  0.3742,  0.3757,  0.9956,  0.6677, -0.2755,  0.4885,\n",
      "          1.1925,  0.8662, -1.0734,  0.0961],\n",
      "        [-0.7355,  1.0232,  0.5655, -0.6029,  0.3317,  0.7980,  1.0157, -0.0725,\n",
      "         -0.3447,  1.2321,  1.1384, -1.1469, -0.9176, -0.4719,  0.1627,  0.3442,\n",
      "          0.6877,  0.6926,  0.3868,  0.4317],\n",
      "        [ 0.1234, -0.6370,  1.2191,  0.0720, -1.0438,  0.8017, -0.1595,  0.1219,\n",
      "          0.6513,  1.2197,  0.3583, -1.0462,  1.0156, -0.1664, -0.3365,  0.6474,\n",
      "          1.1461,  0.3633, -0.9400,  1.0094]])\n",
      "Y= tensor([[ 0.0000,  0.0000,  0.1226, -0.6350,  1.2194,  0.0755, -1.0450,  0.8015,\n",
      "         -0.1631,  0.1232,  0.6493,  1.2192,  0.3609, -1.0440,  1.0124, -0.1602,\n",
      "         -0.3267,  0.6508,  1.1543,  0.3589],\n",
      "        [ 0.0000,  0.0000, -1.0512,  1.2450, -0.1807, -1.1409,  0.6389, -0.4488,\n",
      "          0.3742,  0.3757,  0.9956,  0.6677, -0.2755,  0.4885,  1.1925,  0.8662,\n",
      "         -1.0734,  0.0961, -0.2552,  1.2469],\n",
      "        [ 0.0000,  0.0000,  0.3317,  0.7980,  1.0157, -0.0725, -0.3447,  1.2321,\n",
      "          1.1384, -1.1469, -0.9176, -0.4719,  0.1627,  0.3442,  0.6877,  0.6926,\n",
      "          0.3868,  0.4317,  0.9969,  0.9468],\n",
      "        [ 0.0000,  0.0000, -1.0438,  0.8017, -0.1595,  0.1219,  0.6513,  1.2197,\n",
      "          0.3583, -1.0462,  1.0156, -0.1664, -0.3365,  0.6474,  1.1461,  0.3633,\n",
      "         -0.9400,  1.0094,  0.1067, -0.3175]])\n"
     ]
    }
   ],
   "source": [
    "X,Y=next(iter(testIter))\n",
    "print('Test Data Size:',len(testIter))\n",
    "print('X=',torch.squeeze(X))\n",
    "print('Y=',torch.squeeze(Y))"
   ]
  },
  {
   "cell_type": "markdown",
   "metadata": {},
   "source": [
    "### Define the SRNN"
   ]
  },
  {
   "cell_type": "markdown",
   "metadata": {},
   "source": [
    "#### Get neccesary functions"
   ]
  },
  {
   "cell_type": "code",
   "execution_count": 13,
   "metadata": {},
   "outputs": [],
   "source": [
    "srnnTestSup=SuportFunction()"
   ]
  },
  {
   "cell_type": "code",
   "execution_count": 14,
   "metadata": {},
   "outputs": [],
   "source": [
    "transform=lambda Xs:[torch.squeeze(x) for x in Xs]"
   ]
  },
  {
   "cell_type": "code",
   "execution_count": 15,
   "metadata": {},
   "outputs": [],
   "source": [
    "init_rnn_state=srnnTestSup.get_init_state_fun()\n",
    "get_params=srnnTestSup.get_get_params_fun()\n",
    "rnn=srnnTestSup.get_forward_fn_fun()\n",
    "if hmap.heavyMem==False:\n",
    "    predict_fun=srnnTestSup.get_predict_fun(outputTransoform=transform,interval=hmap.interval)\n",
    "else:\n",
    "    predict_fun=srnnTestSup.get_predict_fun(outputTransoform=transform)"
   ]
  },
  {
   "cell_type": "markdown",
   "metadata": {},
   "source": [
    "#### Create the SRNN"
   ]
  },
  {
   "cell_type": "code",
   "execution_count": 16,
   "metadata": {},
   "outputs": [],
   "source": [
    "inputSize=outputSize=1\n",
    "hiddenSize=6"
   ]
  },
  {
   "cell_type": "code",
   "execution_count": 17,
   "metadata": {},
   "outputs": [],
   "source": [
    "net=ClassicalSRNN(inputSize,hiddenSize,outputSize,get_params,init_rnn_state,rnn)"
   ]
  },
  {
   "cell_type": "markdown",
   "metadata": {},
   "source": [
    "#### Test prediction"
   ]
  },
  {
   "cell_type": "code",
   "execution_count": 18,
   "metadata": {},
   "outputs": [
    {
     "data": {
      "text/plain": [
       "(torch.Size([80, 1]), 1, torch.Size([4, 6]))"
      ]
     },
     "execution_count": 18,
     "metadata": {},
     "output_type": "execute_result"
    }
   ],
   "source": [
    "state=net.begin_state(batchSize)\n",
    "Y,newState=net(X,state)\n",
    "Y.shape, len(newState), newState[0].shape"
   ]
  },
  {
   "cell_type": "code",
   "execution_count": 19,
   "metadata": {},
   "outputs": [
    {
     "name": "stdout",
     "output_type": "stream",
     "text": [
      "preX= tensor([[0.0856],\n",
      "        [0.0413],\n",
      "        [0.0216]])\n",
      "preY= [tensor([0.0856]), tensor([0.0413]), tensor([0.0216]), tensor([1.0250]), tensor([1.0122]), tensor([-0.4645]), tensor([-0.4311]), tensor([1.0055]), tensor([1.0435]), tensor([-0.5547]), tensor([-0.6537])]\n"
     ]
    }
   ],
   "source": [
    "preX,preY=hmap.data_as_tensor\n",
    "preX,preY=torch.unsqueeze(preX[:3],-1),torch.unsqueeze(preY[:10],-1)\n",
    "print('preX=',preX)\n",
    "preY=[y for y in torch.cat((preX[:3],preY[2:]),dim=0)]\n",
    "print('preY=',preY)"
   ]
  },
  {
   "cell_type": "code",
   "execution_count": 20,
   "metadata": {},
   "outputs": [
    {
     "name": "stdout",
     "output_type": "stream",
     "text": [
      "YHat= [tensor(0.0856), tensor(0.0413), tensor(0.0216), tensor(-2.7555e-06), tensor(-1.4378e-06), tensor(-1.6225e-08), tensor(1.0670e-10), tensor(2.2428e-11), tensor(2.0445e-13), tensor(-5.9989e-15)]\n"
     ]
    }
   ],
   "source": [
    "preX=torch.unsqueeze(preX,-1)\n",
    "YHat=predict_fun(preX,net,numPreds=7)\n",
    "print('YHat=',YHat)"
   ]
  },
  {
   "cell_type": "markdown",
   "metadata": {},
   "source": [
    "### Train the network"
   ]
  },
  {
   "cell_type": "markdown",
   "metadata": {},
   "source": [
    "#### Parameters"
   ]
  },
  {
   "cell_type": "code",
   "execution_count": 21,
   "metadata": {},
   "outputs": [],
   "source": [
    "num_epochs, lr = 2000, 0.1"
   ]
  },
  {
   "cell_type": "markdown",
   "metadata": {},
   "source": [
    "#### Loss function"
   ]
  },
  {
   "cell_type": "code",
   "execution_count": 22,
   "metadata": {},
   "outputs": [],
   "source": [
    "lossFunc=GradFreeMSELoss(net)"
   ]
  },
  {
   "cell_type": "markdown",
   "metadata": {},
   "source": [
    "#### Trainer"
   ]
  },
  {
   "cell_type": "code",
   "execution_count": 23,
   "metadata": {},
   "outputs": [],
   "source": [
    "trainer = torch.optim.SGD(net.params, lr=lr)\n",
    "scheduler=torch.optim.lr_scheduler.StepLR(trainer,step_size=250,gamma=0.1)"
   ]
  },
  {
   "cell_type": "markdown",
   "metadata": {},
   "source": [
    "#### Initial loss"
   ]
  },
  {
   "cell_type": "code",
   "execution_count": 24,
   "metadata": {},
   "outputs": [
    {
     "name": "stdout",
     "output_type": "stream",
     "text": [
      "Initial Train Loss: 0.5195209980010986\n",
      "Initial Test Loss: 0.5201730847358703\n"
     ]
    }
   ],
   "source": [
    "l_epochs=[]\n",
    "train_l=SuportFunction.evaluate_accuracy(net,trainIter,lossFunc,False)\n",
    "test_l=SuportFunction.evaluate_accuracy(net,testIter,lossFunc,False)\n",
    "l_epochs.append([train_l,test_l])\n",
    "print('Initial Train Loss:',train_l)\n",
    "print('Initial Test Loss:',test_l)"
   ]
  },
  {
   "cell_type": "markdown",
   "metadata": {},
   "source": [
    "#### Training"
   ]
  },
  {
   "cell_type": "code",
   "execution_count": 25,
   "metadata": {},
   "outputs": [
    {
     "name": "stdout",
     "output_type": "stream",
     "text": [
      "TestLoss 0.052213, 14571.777479 point/s\n",
      "Prediction:\n",
      " [tensor(0.0856), tensor(0.0413), tensor(0.0216), tensor(0.8758), tensor(0.9691), tensor(-0.2070), tensor(-0.3657), tensor(1.0198), tensor(0.9533), tensor(-0.5345), tensor(-0.3480), tensor(0.6596)]\n",
      "Answer:\n",
      " [tensor([0.0856]), tensor([0.0413]), tensor([0.0216]), tensor([1.0250]), tensor([1.0122]), tensor([-0.4645]), tensor([-0.4311]), tensor([1.0055]), tensor([1.0435]), tensor([-0.5547]), tensor([-0.6537])]\n"
     ]
    },
    {
     "data": {
      "image/png": "[encoded data removed]",
      "text/plain": [
       "<Figure size 252x180 with 1 Axes>"
      ]
     },
     "metadata": {
      "needs_background": "light"
     },
     "output_type": "display_data"
    }
   ],
   "source": [
    "animator = hp.Animator(xlabel='epoch', ylabel='Loss',\n",
    "                            legend=['train','test'], xlim=[10, num_epochs])\n",
    "    # prediction\n",
    "predict = lambda prefix: predict_fun(prefix,net, numPreds=9)\n",
    "# train and predict\n",
    "for epoch in range(num_epochs):\n",
    "    trainLoss, speed = SuportFunction.train_epoch(\n",
    "        net, trainIter, lossFunc, trainer, True)\n",
    "    testLoss=SuportFunction.evaluate_accuracy(net, testIter, lossFunc, True)\n",
    "    if (epoch + 1) % 10 == 0:\n",
    "        print(predict(preX))\n",
    "        animator.add(epoch + 1, [trainLoss,testLoss])\n",
    "    l_epochs.append([trainLoss,testLoss])\n",
    "    scheduler.step()\n",
    "testLoss=SuportFunction.evaluate_accuracy(net, testIter, lossFunc, True)\n",
    "print(f'TestLoss {testLoss:f}, {speed:f} point/s')\n",
    "print('Prediction:\\n',predict(preX))\n",
    "print('Answer:\\n',preY)"
   ]
  },
  {
   "cell_type": "markdown",
   "metadata": {},
   "source": [
    "### Visualize the performance"
   ]
  },
  {
   "cell_type": "markdown",
   "metadata": {},
   "source": [
    "#### One Step Prediction"
   ]
  },
  {
   "cell_type": "code",
   "execution_count": 26,
   "metadata": {},
   "outputs": [
    {
     "name": "stdout",
     "output_type": "stream",
     "text": [
      "X= tensor([[-1.0293, -0.3383, -0.1301,  1.1446,  0.6675, -0.9357,  0.3372,  0.1176,\n",
      "          1.0411,  0.6999, -0.4163,  0.3494,  1.0697,  1.0390, -0.7269, -0.4066,\n",
      "          0.5812,  1.0803,  0.3090, -0.7558],\n",
      "        [ 0.3009, -0.1643,  1.1087,  0.6486, -0.6307,  0.3618,  0.7757,  1.0113,\n",
      "         -0.0317, -0.3233,  1.2313,  1.1571, -1.1321, -0.9714, -0.4249,  0.0261,\n",
      "          0.4076,  0.7076,  0.6399,  0.3068],\n",
      "        [-0.5087, -1.2000,  0.9345, -0.6345, -0.3751,  0.0764,  1.0833,  0.8015,\n",
      "         -0.7556,  0.1236,  0.5257,  1.2191,  0.3864, -1.0435,  0.9487, -0.1586,\n",
      "         -0.1442,  0.6517,  1.2555,  0.3577],\n",
      "        [ 1.1247,  0.7292, -0.8687,  0.4199,  0.2809,  0.9719,  0.6289, -0.1964,\n",
      "          0.5306,  1.2376,  0.7946, -1.2000,  0.2753, -0.6447,  1.1322,  0.0581,\n",
      "         -0.7122,  0.8019,  0.6296,  0.1172]])\n",
      "Prediction= tensor([-0.6424,  0.6189, -0.0411, -0.7723,  0.4266,  0.7475, -0.6164,  0.0819,\n",
      "         0.3652, -0.6761, -0.4012,  0.1915, -0.8334,  0.3772, -0.2058,  1.0204,\n",
      "         0.2325,  0.5945,  0.7436,  0.8112,  0.1252,  1.0543,  0.7078, -0.3519,\n",
      "         1.0873, -0.0432, -0.7175,  0.5328,  0.8700, -0.4186,  0.0326,  1.0968,\n",
      "        -0.5167,  1.1311,  0.3859,  0.7780,  0.3367,  1.0140,  1.1872, -0.9017,\n",
      "         0.8718, -0.8828,  0.4824,  0.1919,  1.0693, -0.7417, -0.8559, -0.2081,\n",
      "        -0.6672, -0.1912,  0.9870,  1.1489, -0.4531,  0.0044,  0.0686,  0.0819,\n",
      "         0.3977,  0.2262, -0.1612, -0.5973,  0.8485,  0.6715,  0.6822,  0.7873,\n",
      "         0.3640,  0.5976,  1.0999,  0.4847, -0.6843,  0.1789,  0.2939,  0.0341,\n",
      "         1.0554,  0.4917, -0.9192,  0.3198,  0.4842,  1.0987,  1.0299,  1.1788])\n",
      "Y= tensor([ 0.0000,  0.0000,  0.0000,  0.0000,  0.0000,  0.0000,  0.0000,  0.0000,\n",
      "         0.6675, -0.6307, -0.3751,  0.2809, -0.9357,  0.3618,  0.0764,  0.9719,\n",
      "         0.3372,  0.7757,  1.0833,  0.6289,  0.1176,  1.0113,  0.8015, -0.1964,\n",
      "         1.0411, -0.0317, -0.7556,  0.5306,  0.6999, -0.3233,  0.1236,  1.2376,\n",
      "        -0.4163,  1.2313,  0.5257,  0.7946,  0.3494,  1.1571,  1.2191, -1.2000,\n",
      "         1.0697, -1.1321,  0.3864,  0.2753,  1.0390, -0.9714, -1.0435, -0.6447,\n",
      "        -0.7269, -0.4249,  0.9487,  1.1322, -0.4066,  0.0261, -0.1586,  0.0581,\n",
      "         0.5812,  0.4076, -0.1442, -0.7122,  1.0803,  0.7076,  0.6517,  0.8019,\n",
      "         0.3090,  0.6399,  1.2555,  0.6296, -0.7558,  0.3068,  0.3577,  0.1172,\n",
      "         1.0407,  0.5490, -1.2000,  0.2314,  0.5244,  1.0805,  1.0163,  1.2213])\n"
     ]
    }
   ],
   "source": [
    "X,Y=next(iter(testIter))\n",
    "state=net.begin_state(batchSize)\n",
    "Y_hat,newState=net(X,state)\n",
    "print('X=',torch.squeeze(X))\n",
    "print('Prediction=',torch.squeeze(Y_hat).detach())\n",
    "Y=Y.transpose(0,1).reshape([-1,Y.shape[-1]])\n",
    "print('Y=',torch.squeeze(Y))"
   ]
  },
  {
   "cell_type": "code",
   "execution_count": 27,
   "metadata": {},
   "outputs": [
    {
     "data": {
      "image/png": "[encoded data removed]",
      "text/plain": [
       "<Figure size 288x216 with 1 Axes>"
      ]
     },
     "metadata": {
      "needs_background": "light"
     },
     "output_type": "display_data"
    }
   ],
   "source": [
    "#Visualize the data\n",
    "axes,fig=plt.subplots(1,1,figsize=(4,3))\n",
    "plt.title('One-Step Prediction')\n",
    "plt.plot(torch.linspace(0,Y.numel(),Y.numel()),torch.squeeze(Y),label='Y')\n",
    "plt.plot(torch.linspace(0,Y.numel(),Y.numel()),torch.squeeze(Y_hat).detach(),label=r'$\\hat{Y}$')\n",
    "plt.legend();"
   ]
  },
  {
   "cell_type": "markdown",
   "metadata": {},
   "source": [
    "#### Multi Step Prediction"
   ]
  },
  {
   "cell_type": "code",
   "execution_count": 28,
   "metadata": {},
   "outputs": [],
   "source": [
    "prefixSize=20\n",
    "totalSize=40\n",
    "testShift=int(len(hmap)*(1-testSetRatio))"
   ]
  },
  {
   "cell_type": "code",
   "execution_count": 29,
   "metadata": {},
   "outputs": [
    {
     "data": {
      "text/plain": [
       "40"
      ]
     },
     "execution_count": 29,
     "metadata": {},
     "output_type": "execute_result"
    }
   ],
   "source": [
    "preX,preY=hmap.data_as_tensor\n",
    "preX,preY=torch.unsqueeze(preX[testShift:testShift+prefixSize],-1),torch.unsqueeze(preY[testShift:testShift+totalSize-1],-1)\n",
    "#print('preX=',preX)\n",
    "preY=[y for y in torch.cat((preX[:4],preY[2:-1]),dim=0)]\n",
    "#print('preY=',preY)\n",
    "len(preY)"
   ]
  },
  {
   "cell_type": "code",
   "execution_count": 30,
   "metadata": {},
   "outputs": [
    {
     "data": {
      "text/plain": [
       "40"
      ]
     },
     "execution_count": 30,
     "metadata": {},
     "output_type": "execute_result"
    }
   ],
   "source": [
    "preX=torch.unsqueeze(preX,-1)\n",
    "YHat=predict_fun(preX,net,numPreds=totalSize-prefixSize)\n",
    "#print('YHat=',YHat)\n",
    "len(YHat)"
   ]
  },
  {
   "cell_type": "code",
   "execution_count": 31,
   "metadata": {},
   "outputs": [
    {
     "data": {
      "image/png": "[encoded data removed]",
      "text/plain": [
       "<Figure size 288x216 with 1 Axes>"
      ]
     },
     "metadata": {
      "needs_background": "light"
     },
     "output_type": "display_data"
    }
   ],
   "source": [
    "#Visualize the data\n",
    "axes,fig=plt.subplots(1,1,figsize=(4,3))\n",
    "plt.title('Multi-Step Prediction')\n",
    "fig.set_ylim(-2,2)\n",
    "plt.plot(torch.linspace(0,len(preY),len(preY)),preY,label='Y')\n",
    "plt.plot(torch.linspace(0,len(preY),len(preY)),YHat,label=r'$\\hat{Y}$')\n",
    "plt.vlines([prefixSize-1],ymin=-2,ymax=2,linestyles='dashed',label='Prediction')\n",
    "plt.legend();"
   ]
  }
 ],
 "metadata": {
  "interpreter": {
   "hash": "8d86c190dfcadcdaa67edec4a1ea82702241987b5b1f320c920d3d4ca36fee5b"
  },
  "kernelspec": {
   "display_name": "Python 3.8.3 ('base')",
   "language": "python",
   "name": "python3"
  },
  "language_info": {
   "codemirror_mode": {
    "name": "ipython",
    "version": 3
   },
   "file_extension": ".py",
   "mimetype": "text/x-python",
   "name": "python",
   "nbconvert_exporter": "python",
   "pygments_lexer": "ipython3",
   "version": "3.8.3"
  },
  "orig_nbformat": 4
 },
 "nbformat": 4,
 "nbformat_minor": 2
}
