{
 "cells": [
  {
   "cell_type": "markdown",
   "metadata": {},
   "source": [
    "# Test Henon Map Data Iter"
   ]
  },
  {
   "cell_type": "markdown",
   "metadata": {},
   "source": [
    "This is a notebook for testing the Henon Map Data Iter"
   ]
  },
  {
   "cell_type": "markdown",
   "metadata": {},
   "source": [
    "## Import everything"
   ]
  },
  {
   "cell_type": "markdown",
   "metadata": {},
   "source": [
    "Modify setting for pytorch"
   ]
  },
  {
   "cell_type": "code",
   "execution_count": 1,
   "metadata": {},
   "outputs": [],
   "source": [
    "import os\n",
    "os.environ['KMP_DUPLICATE_LIB_OK']='True'\n",
    "currentPath=os.getcwd()"
   ]
  },
  {
   "cell_type": "markdown",
   "metadata": {},
   "source": [
    "Import matplotlib and others"
   ]
  },
  {
   "cell_type": "code",
   "execution_count": 2,
   "metadata": {},
   "outputs": [],
   "source": [
    "%matplotlib inline\n",
    "import matplotlib.pyplot as plt"
   ]
  },
  {
   "cell_type": "markdown",
   "metadata": {},
   "source": [
    "Import Henon Map Generator"
   ]
  },
  {
   "cell_type": "code",
   "execution_count": 3,
   "metadata": {},
   "outputs": [],
   "source": [
    "currentPath=os.getcwd()\n",
    "currentPath=os.path.join(currentPath,'..')\n",
    "currentPath=os.path.join(currentPath,'src')\n",
    "os.chdir(currentPath)\n",
    "from DataGenerator.HenonMapDataGen import HenonMapDataGen"
   ]
  },
  {
   "cell_type": "markdown",
   "metadata": {},
   "source": [
    "## Henon Map Data Iter"
   ]
  },
  {
   "cell_type": "markdown",
   "metadata": {},
   "source": [
    "Set save path"
   ]
  },
  {
   "cell_type": "code",
   "execution_count": 4,
   "metadata": {},
   "outputs": [],
   "source": [
    "savepath=os.path.join(currentPath,'..\\data\\HenonMap\\Test')\n",
    "filename='HenonMapTest3.csv'"
   ]
  },
  {
   "cell_type": "markdown",
   "metadata": {},
   "source": [
    "Read the data"
   ]
  },
  {
   "cell_type": "code",
   "execution_count": 5,
   "metadata": {},
   "outputs": [],
   "source": [
    "hmap=HenonMapDataGen(savepath=savepath)\n",
    "hmap.read_from_CSV(filename)"
   ]
  },
  {
   "cell_type": "code",
   "execution_count": 6,
   "metadata": {},
   "outputs": [
    {
     "name": "stdout",
     "output_type": "stream",
     "text": [
      "Data Info:\n",
      "----------------------------------------\n",
      "Data Size: 1000\n",
      "Data Interval: 5\n",
      "Data ParamA: 1.4, Data ParamB: 0.3\n",
      "Data Bound: -1.2\n",
      "Data HeavyMem: False\n",
      "Data Seed:\n",
      " [0.08628808343444451, 0.01047256162267245, 0.05791303173850359, 0.09306018117985924, 0.030746751612576874, 0.08539528631298632, 0.07203953218418534, 0.08725039216701054, 0.0536789114467842, 0.047240327598474165]\n",
      "----------------------------------------\n"
     ]
    }
   ],
   "source": [
    "print(hmap)"
   ]
  },
  {
   "cell_type": "markdown",
   "metadata": {},
   "source": [
    "Data iter parameters"
   ]
  },
  {
   "cell_type": "code",
   "execution_count": 7,
   "metadata": {},
   "outputs": [],
   "source": [
    "testSetRatio=0.2\n",
    "numStep=10\n",
    "batchSize=2"
   ]
  },
  {
   "cell_type": "markdown",
   "metadata": {},
   "source": [
    "### Test the random data iter"
   ]
  },
  {
   "cell_type": "code",
   "execution_count": 8,
   "metadata": {},
   "outputs": [],
   "source": [
    "trainIter,testIter=hmap.get_data_iter(testSetRatio,numStep,batchSize)"
   ]
  },
  {
   "cell_type": "markdown",
   "metadata": {},
   "source": [
    "TrainIter"
   ]
  },
  {
   "cell_type": "code",
   "execution_count": 9,
   "metadata": {},
   "outputs": [
    {
     "name": "stdout",
     "output_type": "stream",
     "text": [
      "X=tensor([[ 0.7982,  0.7648,  0.1237, -0.4596, -1.0446,  0.1405,  0.3484,  1.2190,\n",
      "          0.3618, -0.1618],\n",
      "        [-0.5013,  1.2151,  1.1433, -0.6347,  0.0681,  0.9685, -1.1161, -0.9320,\n",
      "          0.0760,  0.7070]])\n",
      "Y=tensor([[ 0.0000,  0.0000,  0.0000,  0.0000,  0.0000,  1.2118,  1.0596, -1.0433,\n",
      "          0.6788,  0.6500],\n",
      "        [ 0.0000,  0.0000,  0.0000,  0.0000,  0.0000, -0.4635, -0.3793,  0.1269,\n",
      "          0.8015,  0.3207]])\n"
     ]
    }
   ],
   "source": [
    "X,Y=next(iter(trainIter))\n",
    "print('X='+str(X))\n",
    "print('Y='+str(Y))"
   ]
  },
  {
   "cell_type": "code",
   "execution_count": 10,
   "metadata": {},
   "outputs": [
    {
     "name": "stdout",
     "output_type": "stream",
     "text": [
      "total number of train data: 79\n"
     ]
    }
   ],
   "source": [
    "print('total number of train data:',len(trainIter))"
   ]
  },
  {
   "cell_type": "markdown",
   "metadata": {},
   "source": [
    "TestIter"
   ]
  },
  {
   "cell_type": "code",
   "execution_count": 11,
   "metadata": {},
   "outputs": [
    {
     "name": "stdout",
     "output_type": "stream",
     "text": [
      "X=tensor([[ 0.0120, -0.3320,  0.6795,  0.9268, -0.6432,  0.7068,  1.1503,  0.5203,\n",
      "         -0.0664,  0.0608],\n",
      "        [ 1.1786,  0.6261,  0.1086,  1.0349, -0.1544, -0.8848,  0.2402,  1.1940,\n",
      "         -0.3935,  0.6540]])\n",
      "Y=tensor([[ 0.0000,  0.0000,  0.0000,  0.0000,  0.0000,  0.3043, -0.9520,  0.8248,\n",
      "          1.2719,  0.8019],\n",
      "        [ 0.0000,  0.0000,  0.0000,  0.0000,  0.0000,  0.2575,  1.1070, -0.9633,\n",
      "          1.0937,  0.3549]])\n"
     ]
    }
   ],
   "source": [
    "X,Y=next(iter(testIter))\n",
    "print('X='+str(X))\n",
    "print('Y='+str(Y))"
   ]
  },
  {
   "cell_type": "code",
   "execution_count": 12,
   "metadata": {},
   "outputs": [
    {
     "name": "stdout",
     "output_type": "stream",
     "text": [
      "total number of test data: 19\n"
     ]
    }
   ],
   "source": [
    "print('total number of test data:',len(testIter))"
   ]
  },
  {
   "cell_type": "markdown",
   "metadata": {},
   "source": [
    "Visualize the data"
   ]
  },
  {
   "cell_type": "code",
   "execution_count": 13,
   "metadata": {},
   "outputs": [
    {
     "data": {
      "text/plain": [
       "Text(0, 0.5, 'Y')"
      ]
     },
     "execution_count": 13,
     "metadata": {},
     "output_type": "execute_result"
    },
    {
     "data": {
      "image/png": "[encoded data removed]",
      "text/plain": [
       "<Figure size 504x216 with 2 Axes>"
      ]
     },
     "metadata": {
      "needs_background": "light"
     },
     "output_type": "display_data"
    }
   ],
   "source": [
    "#Visualize the data via matplotlib\n",
    "fig,axes=plt.subplots(1,2,figsize=(7,3))\n",
    "for X,Y in trainIter:\n",
    "    axes[0].plot(X,Y,'.')\n",
    "axes[0].set_title('train data')\n",
    "axes[0].set_xlabel('X')\n",
    "axes[0].set_ylabel('Y')\n",
    "for X,Y in testIter:\n",
    "    axes[1].plot(X,Y,'.')\n",
    "axes[1].set_title('test data')\n",
    "axes[1].set_xlabel('X')\n",
    "axes[1].set_ylabel('Y')"
   ]
  },
  {
   "cell_type": "markdown",
   "metadata": {},
   "source": [
    "### Test the sequential data iter"
   ]
  },
  {
   "cell_type": "code",
   "execution_count": 14,
   "metadata": {},
   "outputs": [],
   "source": [
    "trainIter,testIter=hmap.get_data_iter(testSetRatio,numStep,batchSize,mask=0,shuffle=False)"
   ]
  },
  {
   "cell_type": "markdown",
   "metadata": {},
   "source": [
    "TrainIter"
   ]
  },
  {
   "cell_type": "code",
   "execution_count": 15,
   "metadata": {},
   "outputs": [
    {
     "name": "stdout",
     "output_type": "stream",
     "text": [
      "Data1\n",
      "X=tensor([[ 0.0307,  0.0854,  0.0720,  0.0873,  0.0537,  0.0472,  1.0157,  0.9959,\n",
      "          1.0067,  1.0239],\n",
      "        [-0.9382,  0.4754, -0.9398, -0.7232,  1.2694,  0.1113,  0.8939,  0.1073,\n",
      "          0.5892, -1.2000]])\n",
      "Y=tensor([[ 0.0000,  1.0157,  0.9959,  1.0067,  1.0239,  1.0061, -0.4186, -0.3669,\n",
      "         -0.3927, -0.4516],\n",
      "        [ 0.1113,  0.8939,  0.1073,  0.5892, -1.2000,  0.7012,  0.0240,  0.7019,\n",
      "          0.2971, -0.6352]])\n",
      "Data2\n",
      "X=tensor([[ 1.0061, -0.4186, -0.3669, -0.3927, -0.4516, -0.4030,  1.0594,  1.1103,\n",
      "          1.0861,  1.0217],\n",
      "        [ 0.7012,  0.0240,  0.7019,  0.2971, -0.6352,  0.3451,  1.2674,  0.3424,\n",
      "          1.0532,  0.0751]])\n",
      "Y=tensor([[-0.4030,  1.0594,  1.1103,  1.0861,  1.0217,  1.0745, -0.6967, -0.8360,\n",
      "         -0.7693, -0.5968],\n",
      "        [ 0.3451,  1.2674,  0.3424,  1.0532,  0.0751,  1.0437, -1.2000,  1.0464,\n",
      "         -0.4637,  0.8015]])\n",
      "Data3\n",
      "X=tensor([[ 1.0745, -0.6967, -0.8360, -0.7693, -0.5968, -0.7373,  0.6382,  0.3545,\n",
      "          0.4972,  0.8078],\n",
      "        [ 1.0437, -1.2000,  1.0464, -0.4637,  0.8015, -0.4214, -0.6358, -0.4303,\n",
      "          1.0149,  0.1231]])\n",
      "Y=tensor([[-0.7373,  0.6382,  0.3545,  0.4972,  0.8078,  0.5614,  0.2208,  0.5732,\n",
      "          0.4231, -0.0926],\n",
      "        [-0.4214, -0.6358, -0.4303,  1.0149,  0.1231,  1.0645,  0.0741,  1.0547,\n",
      "         -0.5811,  1.2192]])\n"
     ]
    }
   ],
   "source": [
    "i=0\n",
    "for X,Y in trainIter:\n",
    "    i+=1\n",
    "    print('Data'+str(i))\n",
    "    print('X='+str(X))\n",
    "    print('Y='+str(Y))\n",
    "    if i==3:\n",
    "        break"
   ]
  },
  {
   "cell_type": "code",
   "execution_count": 16,
   "metadata": {},
   "outputs": [
    {
     "name": "stdout",
     "output_type": "stream",
     "text": [
      "78\n"
     ]
    }
   ],
   "source": [
    "print(len(trainIter))"
   ]
  },
  {
   "cell_type": "markdown",
   "metadata": {},
   "source": [
    "TestIter"
   ]
  },
  {
   "cell_type": "code",
   "execution_count": 17,
   "metadata": {},
   "outputs": [
    {
     "name": "stdout",
     "output_type": "stream",
     "text": [
      "Data1\n",
      "X=tensor([[-0.3502,  1.2196, -0.6655, -0.1454,  0.1652,  1.1346, -1.0457,  0.6940,\n",
      "          0.6599,  1.1627],\n",
      "        [ 0.6815,  0.9392, -0.2220, -0.1585, -0.2689,  0.4036, -0.3863,  1.2248,\n",
      "          0.6518,  1.1968]])\n",
      "Y=tensor([[ 1.1346, -1.0457,  0.6940,  0.6599,  1.1627, -0.9075, -0.1651,  0.1260,\n",
      "          0.3466, -0.8431],\n",
      "        [ 0.4036, -0.3863,  1.2248,  0.6518,  1.1968,  0.9764,  1.0729, -1.1666,\n",
      "          0.3577, -1.0859]])\n",
      "Data2\n",
      "X=tensor([[-0.9075, -0.1651,  0.1260,  0.3466, -0.8431,  0.1875,  0.6481,  1.1860,\n",
      "          1.0298,  0.3537],\n",
      "        [ 0.9764,  1.0729, -1.1666,  0.3577, -1.0859, -0.2136, -0.7274, -0.5381,\n",
      "          1.0165, -0.2917]])\n",
      "Y=tensor([[ 0.1875,  0.6481,  1.1860,  1.0298,  0.3537,  0.6785,  0.3624, -0.9314,\n",
      "         -0.3806,  0.5720],\n",
      "        [-0.2136, -0.7274, -0.5381,  1.0165, -0.2917,  1.2290,  0.5811,  0.2447,\n",
      "         -0.3392,  0.5551]])\n",
      "Data3\n",
      "X=tensor([[ 0.6785,  0.3624, -0.9314, -0.3806,  0.5720,  0.4117,  1.0105,  0.1413,\n",
      "          1.1061,  0.6481],\n",
      "        [ 1.2290,  0.5811,  0.2447, -0.3392,  0.5551, -1.1788,  0.3090,  0.7548,\n",
      "          1.1439,  0.4811]])\n",
      "Y=tensor([[ 0.4117,  1.0105,  0.1413,  1.1061,  0.6481,  0.9663, -0.3209,  0.6926,\n",
      "         -0.8271,  0.5835],\n",
      "        [-1.1788,  0.3090,  0.7548,  1.1439,  0.4811, -0.5767,  1.0407,  0.2759,\n",
      "         -0.9336,  0.8425]])\n"
     ]
    }
   ],
   "source": [
    "i=0\n",
    "for X,Y in testIter:\n",
    "    i+=1\n",
    "    print('Data'+str(i))\n",
    "    print('X='+str(X))\n",
    "    print('Y='+str(Y))\n",
    "    if i==3:\n",
    "        break"
   ]
  },
  {
   "cell_type": "code",
   "execution_count": 18,
   "metadata": {},
   "outputs": [
    {
     "name": "stdout",
     "output_type": "stream",
     "text": [
      "18\n"
     ]
    }
   ],
   "source": [
    "print(len(testIter))"
   ]
  },
  {
   "cell_type": "markdown",
   "metadata": {},
   "source": [
    "Visualize the data"
   ]
  },
  {
   "cell_type": "code",
   "execution_count": 19,
   "metadata": {},
   "outputs": [
    {
     "data": {
      "text/plain": [
       "Text(0, 0.5, 'Y')"
      ]
     },
     "execution_count": 19,
     "metadata": {},
     "output_type": "execute_result"
    },
    {
     "data": {
      "image/png": "[encoded data removed]",
      "text/plain": [
       "<Figure size 504x216 with 2 Axes>"
      ]
     },
     "metadata": {
      "needs_background": "light"
     },
     "output_type": "display_data"
    }
   ],
   "source": [
    "#Visualize the data via matplotlib\n",
    "fig,axes=plt.subplots(1,2,figsize=(7,3))\n",
    "for X,Y in trainIter:\n",
    "    axes[0].plot(X.flatten(),Y.flatten(),'.')\n",
    "axes[0].set_title('Training data')\n",
    "axes[0].set_xlabel('X')\n",
    "axes[0].set_ylabel('Y')\n",
    "\n",
    "for X,Y in testIter:\n",
    "    axes[1].plot(X.flatten(),Y.flatten(),'.')\n",
    "axes[1].set_title('Test data')\n",
    "axes[1].set_xlabel('X')\n",
    "axes[1].set_ylabel('Y')"
   ]
  },
  {
   "cell_type": "markdown",
   "metadata": {},
   "source": [
    "# End of the test"
   ]
  }
 ],
 "metadata": {
  "interpreter": {
   "hash": "8d86c190dfcadcdaa67edec4a1ea82702241987b5b1f320c920d3d4ca36fee5b"
  },
  "kernelspec": {
   "display_name": "Python 3.8.3 ('base')",
   "language": "python",
   "name": "python3"
  },
  "language_info": {
   "codemirror_mode": {
    "name": "ipython",
    "version": 3
   },
   "file_extension": ".py",
   "mimetype": "text/x-python",
   "name": "python",
   "nbconvert_exporter": "python",
   "pygments_lexer": "ipython3",
   "version": "3.8.3"
  },
  "orig_nbformat": 4
 },
 "nbformat": 4,
 "nbformat_minor": 2
}
