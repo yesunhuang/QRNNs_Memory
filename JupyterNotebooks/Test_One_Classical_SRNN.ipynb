{
 "cells": [
  {
   "cell_type": "markdown",
   "metadata": {},
   "source": [
    "# Test One for the Classical SRNN"
   ]
  },
  {
   "cell_type": "markdown",
   "metadata": {},
   "source": [
    "This is a notebook for testing the classical SRNN."
   ]
  },
  {
   "cell_type": "markdown",
   "metadata": {},
   "source": [
    "## Import everything"
   ]
  },
  {
   "cell_type": "markdown",
   "metadata": {},
   "source": [
    "Modify setting for pytorch"
   ]
  },
  {
   "cell_type": "code",
   "execution_count": 1,
   "metadata": {},
   "outputs": [],
   "source": [
    "import os\n",
    "os.environ['KMP_DUPLICATE_LIB_OK']='True'\n",
    "currentPath=os.getcwd()"
   ]
  },
  {
   "cell_type": "markdown",
   "metadata": {},
   "source": [
    "Import matplotlib and others"
   ]
  },
  {
   "cell_type": "code",
   "execution_count": 2,
   "metadata": {},
   "outputs": [],
   "source": [
    "%matplotlib inline\n",
    "import matplotlib.pyplot as plt\n",
    "import torch"
   ]
  },
  {
   "cell_type": "markdown",
   "metadata": {},
   "source": [
    "Import the classical SRNN and others"
   ]
  },
  {
   "cell_type": "code",
   "execution_count": 3,
   "metadata": {},
   "outputs": [],
   "source": [
    "#Modify path for the notebooks\n",
    "currentPath=os.path.join(currentPath,'..')\n",
    "currentPath=os.path.join(currentPath,'src')\n",
    "os.chdir(currentPath)"
   ]
  },
  {
   "cell_type": "code",
   "execution_count": 4,
   "metadata": {},
   "outputs": [],
   "source": [
    "from DataGenerator.HenonMapDataGen import HenonMapDataGen\n",
    "from ClassicalModels.ClassicalSRNNs import ClassicalSRNN\n",
    "from ClassicalModels.ClassicalSRNNs import SuportFunction\n",
    "from GradientFreeOptimizers.CostFunc import GradFreeMSELoss\n",
    "import GradientFreeOptimizers.Helpers as hp"
   ]
  },
  {
   "cell_type": "markdown",
   "metadata": {},
   "source": [
    "## Test One"
   ]
  },
  {
   "cell_type": "markdown",
   "metadata": {},
   "source": [
    "### Get the data"
   ]
  },
  {
   "cell_type": "markdown",
   "metadata": {},
   "source": [
    "#### Set save path"
   ]
  },
  {
   "cell_type": "code",
   "execution_count": 5,
   "metadata": {},
   "outputs": [],
   "source": [
    "savepath=os.path.join(currentPath,'..\\data\\HenonMap\\Test')\n",
    "filename='ClassicalSRNNTest1.csv'"
   ]
  },
  {
   "cell_type": "code",
   "execution_count": 6,
   "metadata": {},
   "outputs": [],
   "source": [
    "'''\n",
    "hmap=HenonMapDataGen(savepath=savepath)\n",
    "hmap(10000)\n",
    "hmap.save_to_CSV(filename)\n",
    "''';"
   ]
  },
  {
   "cell_type": "markdown",
   "metadata": {},
   "source": [
    "#### Read the data"
   ]
  },
  {
   "cell_type": "code",
   "execution_count": 7,
   "metadata": {},
   "outputs": [],
   "source": [
    "hmap=HenonMapDataGen(savepath=savepath)\n",
    "hmap.read_from_CSV(filename)"
   ]
  },
  {
   "cell_type": "code",
   "execution_count": 8,
   "metadata": {},
   "outputs": [
    {
     "name": "stdout",
     "output_type": "stream",
     "text": [
      "Data Info:\n",
      "----------------------------------------\n",
      "Data Size: 10000\n",
      "Data Interval: 1\n",
      "Data ParamA: 1.4, Data ParamB: 0.3\n",
      "Data Bound: -1.2\n",
      "Data HeavyMem: True\n",
      "Data Seed:\n",
      " [0.004080481176836049, 0.06596289908127698]\n",
      "----------------------------------------\n"
     ]
    }
   ],
   "source": [
    "print(hmap)"
   ]
  },
  {
   "cell_type": "markdown",
   "metadata": {},
   "source": [
    "#### Generate the data iter"
   ]
  },
  {
   "cell_type": "code",
   "execution_count": 9,
   "metadata": {},
   "outputs": [],
   "source": [
    "testSetRatio=0.2\n",
    "numStep=10\n",
    "batchSize=4"
   ]
  },
  {
   "cell_type": "code",
   "execution_count": 10,
   "metadata": {},
   "outputs": [],
   "source": [
    "trainIter,testIter=hmap.get_data_iter(testSetRatio,numStep,batchSize,mask=0,shuffle=False)"
   ]
  },
  {
   "cell_type": "code",
   "execution_count": 11,
   "metadata": {},
   "outputs": [
    {
     "name": "stdout",
     "output_type": "stream",
     "text": [
      "Train Data Size: 796\n",
      "X= tensor([[ 0.6463,  0.5872,  0.7111,  0.4683,  0.9063, -0.0095,  1.2718, -1.2672,\n",
      "         -0.8666, -0.4315],\n",
      "        [-0.4271,  1.0314, -0.6175,  0.7757, -0.0276,  1.2316, -1.1320, -0.4244,\n",
      "          0.4082,  0.6394],\n",
      "        [ 0.1858,  1.1874, -0.9181,  0.1762,  0.6811,  0.4034,  0.9765, -0.2140,\n",
      "          1.2289, -1.1783],\n",
      "        [-0.0197,  0.7014,  0.3054,  1.0798, -0.5408,  0.9145, -0.3331,  1.1190,\n",
      "         -0.8529,  0.3172]])\n",
      "Y= tensor([[ 0.5872,  0.7111,  0.4683,  0.9063, -0.0095,  1.2718, -1.2672, -0.8666,\n",
      "         -0.4315,  0.4793],\n",
      "        [ 1.0314, -0.6175,  0.7757, -0.0276,  1.2316, -1.1320, -0.4244,  0.4082,\n",
      "          0.6394,  0.5502],\n",
      "        [ 1.1874, -0.9181,  0.1762,  0.6811,  0.4034,  0.9765, -0.2140,  1.2289,\n",
      "         -1.1783, -0.5752],\n",
      "        [ 0.7014,  0.3054,  1.0798, -0.5408,  0.9145, -0.3331,  1.1190, -0.8529,\n",
      "          0.3172,  0.6033]])\n"
     ]
    }
   ],
   "source": [
    "X,Y=next(iter(trainIter))\n",
    "print('Train Data Size:',len(trainIter))\n",
    "print('X=',torch.squeeze(X))\n",
    "print('Y=',torch.squeeze(Y))"
   ]
  },
  {
   "cell_type": "code",
   "execution_count": 12,
   "metadata": {},
   "outputs": [
    {
     "name": "stdout",
     "output_type": "stream",
     "text": [
      "Test Data Size: 196\n",
      "X= tensor([[ 0.7050,  0.3264,  1.0623, -0.4821,  0.9933, -0.5261,  0.9106, -0.3186,\n",
      "          1.1310, -0.8866],\n",
      "        [ 0.6164,  0.6494,  0.5945,  0.7001,  0.4921,  0.8710,  0.0856,  1.2510,\n",
      "         -1.1655, -0.5263],\n",
      "        [ 0.3097,  1.0875, -0.5627,  0.8829, -0.2601,  1.1701, -0.9949, -0.0348,\n",
      "          0.6998,  0.3039],\n",
      "        [-0.0310,  1.2313, -1.1317, -0.4238,  0.4090,  0.6386,  0.5517,  0.7654,\n",
      "          0.3454,  1.0626]])\n",
      "Y= tensor([[ 0.3264,  1.0623, -0.4821,  0.9933, -0.5261,  0.9106, -0.3186,  1.1310,\n",
      "         -0.8866,  0.2390],\n",
      "        [ 0.6494,  0.5945,  0.7001,  0.4921,  0.8710,  0.0856,  1.2510, -1.1655,\n",
      "         -0.5263,  0.2626],\n",
      "        [ 1.0875, -0.5627,  0.8829, -0.2601,  1.1701, -0.9949, -0.0348,  0.6998,\n",
      "          0.3039,  1.0807],\n",
      "        [ 1.2313, -1.1317, -0.4238,  0.4090,  0.6386,  0.5517,  0.7654,  0.3454,\n",
      "          1.0626, -0.4773]])\n"
     ]
    }
   ],
   "source": [
    "X,Y=next(iter(testIter))\n",
    "print('Test Data Size:',len(testIter))\n",
    "print('X=',torch.squeeze(X))\n",
    "print('Y=',torch.squeeze(Y))"
   ]
  },
  {
   "cell_type": "markdown",
   "metadata": {},
   "source": [
    "### Define the SRNN"
   ]
  },
  {
   "cell_type": "markdown",
   "metadata": {},
   "source": [
    "#### Get neccesary functions"
   ]
  },
  {
   "cell_type": "code",
   "execution_count": 13,
   "metadata": {},
   "outputs": [],
   "source": [
    "srnnTest1Sup=SuportFunction()"
   ]
  },
  {
   "cell_type": "code",
   "execution_count": 14,
   "metadata": {},
   "outputs": [],
   "source": [
    "transform=lambda Xs:[torch.squeeze(x) for x in Xs]"
   ]
  },
  {
   "cell_type": "code",
   "execution_count": 15,
   "metadata": {},
   "outputs": [],
   "source": [
    "init_rnn_state=srnnTest1Sup.get_init_state_fun()\n",
    "get_params=srnnTest1Sup.get_get_params_fun()\n",
    "rnn=srnnTest1Sup.get_forward_fn_fun()\n",
    "predict_fun=srnnTest1Sup.get_predict_fun(outputTransoform=transform)"
   ]
  },
  {
   "cell_type": "markdown",
   "metadata": {},
   "source": [
    "#### Create the SRNN"
   ]
  },
  {
   "cell_type": "code",
   "execution_count": 16,
   "metadata": {},
   "outputs": [],
   "source": [
    "inputSize=outputSize=1\n",
    "hiddenSize=6"
   ]
  },
  {
   "cell_type": "code",
   "execution_count": 17,
   "metadata": {},
   "outputs": [],
   "source": [
    "net=ClassicalSRNN(inputSize,hiddenSize,outputSize,get_params,init_rnn_state,rnn)"
   ]
  },
  {
   "cell_type": "markdown",
   "metadata": {},
   "source": [
    "#### Test prediction"
   ]
  },
  {
   "cell_type": "code",
   "execution_count": 18,
   "metadata": {},
   "outputs": [
    {
     "data": {
      "text/plain": [
       "(torch.Size([40, 1]), 1, torch.Size([4, 6]))"
      ]
     },
     "execution_count": 18,
     "metadata": {},
     "output_type": "execute_result"
    }
   ],
   "source": [
    "state=net.begin_state(batchSize)\n",
    "Y,newState=net(X,state)\n",
    "Y.shape, len(newState), newState[0].shape"
   ]
  },
  {
   "cell_type": "code",
   "execution_count": 19,
   "metadata": {},
   "outputs": [
    {
     "name": "stdout",
     "output_type": "stream",
     "text": [
      "preX= tensor([[0.0041],\n",
      "        [0.0660]])\n",
      "preY= [tensor([0.0041]), tensor([0.0660]), tensor([0.9951]), tensor([-0.3666]), tensor([1.1104]), tensor([-0.8361]), tensor([0.3545]), tensor([0.5733]), tensor([0.6463]), tensor([0.5872]), tensor([0.7111])]\n"
     ]
    }
   ],
   "source": [
    "preX,preY=hmap.data_as_tensor\n",
    "preX,preY=torch.unsqueeze(preX[:2],-1),torch.unsqueeze(preY[:10],-1)\n",
    "print('preX=',preX)\n",
    "preY=[y for y in torch.cat((preX[:2],preY[1:]),dim=0)]\n",
    "print('preY=',preY)"
   ]
  },
  {
   "cell_type": "code",
   "execution_count": 20,
   "metadata": {},
   "outputs": [
    {
     "name": "stdout",
     "output_type": "stream",
     "text": [
      "YHat= [tensor(0.0041), tensor(0.0660), tensor(1.3706e-05), tensor(-6.9425e-08), tensor(-9.8251e-09), tensor(1.1252e-10), tensor(1.1327e-12)]\n"
     ]
    }
   ],
   "source": [
    "preX=torch.unsqueeze(preX,-1)\n",
    "YHat=predict_fun(preX,net,numPreds=5)\n",
    "print('YHat=',YHat)"
   ]
  },
  {
   "cell_type": "markdown",
   "metadata": {},
   "source": [
    "### Train the network"
   ]
  },
  {
   "cell_type": "markdown",
   "metadata": {},
   "source": [
    "#### Parameters"
   ]
  },
  {
   "cell_type": "code",
   "execution_count": 21,
   "metadata": {},
   "outputs": [],
   "source": [
    "num_epochs, lr = 600, 0.1"
   ]
  },
  {
   "cell_type": "markdown",
   "metadata": {},
   "source": [
    "#### Loss function"
   ]
  },
  {
   "cell_type": "code",
   "execution_count": 22,
   "metadata": {},
   "outputs": [],
   "source": [
    "lossFunc=GradFreeMSELoss(net)"
   ]
  },
  {
   "cell_type": "markdown",
   "metadata": {},
   "source": [
    "#### Trainer"
   ]
  },
  {
   "cell_type": "code",
   "execution_count": 23,
   "metadata": {},
   "outputs": [],
   "source": [
    "trainer = torch.optim.SGD(net.params, lr=lr)\n",
    "scheduler=torch.optim.lr_scheduler.StepLR(trainer,step_size=200,gamma=0.1)"
   ]
  },
  {
   "cell_type": "markdown",
   "metadata": {},
   "source": [
    "#### Initial loss"
   ]
  },
  {
   "cell_type": "code",
   "execution_count": 24,
   "metadata": {},
   "outputs": [
    {
     "name": "stdout",
     "output_type": "stream",
     "text": [
      "Initial Train Loss: 0.5854842979105274\n",
      "Initial Test Loss: 0.5835821745347004\n"
     ]
    }
   ],
   "source": [
    "l_epochs=[]\n",
    "train_l=SuportFunction.evaluate_accuracy(net,trainIter,lossFunc,False)\n",
    "test_l=SuportFunction.evaluate_accuracy(net,testIter,lossFunc,False)\n",
    "l_epochs.append([train_l,test_l])\n",
    "print('Initial Train Loss:',train_l)\n",
    "print('Initial Test Loss:',test_l)"
   ]
  },
  {
   "cell_type": "markdown",
   "metadata": {},
   "source": [
    "#### Training"
   ]
  },
  {
   "cell_type": "code",
   "execution_count": 25,
   "metadata": {},
   "outputs": [
    {
     "name": "stdout",
     "output_type": "stream",
     "text": [
      "TestLoss 0.000138, 14113.310847 point/s\n",
      "Prediction:\n",
      " [tensor(0.0041), tensor(0.0660), tensor(0.9787), tensor(-0.3703), tensor(1.1061), tensor(-0.8308), tensor(0.3741), tensor(0.5555), tensor(0.6787), tensor(0.5341), tensor(0.8131)]\n",
      "Answer:\n",
      " [tensor([0.0041]), tensor([0.0660]), tensor([0.9951]), tensor([-0.3666]), tensor([1.1104]), tensor([-0.8361]), tensor([0.3545]), tensor([0.5733]), tensor([0.6463]), tensor([0.5872]), tensor([0.7111])]\n"
     ]
    },
    {
     "data": {
      "image/png": "[encoded data removed]",
      "text/plain": [
       "<Figure size 252x180 with 1 Axes>"
      ]
     },
     "metadata": {
      "needs_background": "light"
     },
     "output_type": "display_data"
    }
   ],
   "source": [
    "animator = hp.Animator(xlabel='epoch', ylabel='Loss',\n",
    "                            legend=['train','test'], xlim=[10, num_epochs])\n",
    "    # prediction\n",
    "predict = lambda prefix: predict_fun(prefix,net, numPreds=9)\n",
    "# train and predict\n",
    "for epoch in range(num_epochs):\n",
    "    trainLoss, speed = SuportFunction.train_epoch(\n",
    "        net, trainIter, lossFunc, trainer, False)\n",
    "    testLoss=SuportFunction.evaluate_accuracy(net, testIter, lossFunc, False)\n",
    "    if (epoch + 1) % 10 == 0:\n",
    "        print(predict(preX))\n",
    "        animator.add(epoch + 1, [trainLoss,testLoss])\n",
    "    l_epochs.append([trainLoss,testLoss])\n",
    "    scheduler.step()\n",
    "testLoss=SuportFunction.evaluate_accuracy(net, testIter, lossFunc, False)\n",
    "print(f'TestLoss {testLoss:f}, {speed:f} point/s')\n",
    "print('Prediction:\\n',predict(preX))\n",
    "print('Answer:\\n',preY)"
   ]
  },
  {
   "cell_type": "markdown",
   "metadata": {},
   "source": [
    "### Visualize the performance"
   ]
  },
  {
   "cell_type": "markdown",
   "metadata": {},
   "source": [
    "#### One Step Prediction"
   ]
  },
  {
   "cell_type": "code",
   "execution_count": 26,
   "metadata": {},
   "outputs": [
    {
     "name": "stdout",
     "output_type": "stream",
     "text": [
      "X= tensor([[ 1.1925, -0.9575,  0.0743,  0.7050,  0.3264,  1.0623, -0.4821,  0.9933,\n",
      "         -0.5261,  0.9106],\n",
      "        [ 0.4264,  0.6045,  0.6164,  0.6494,  0.5945,  0.7001,  0.4921,  0.8710,\n",
      "          0.0856,  1.2510],\n",
      "        [ 0.7391,  0.3097,  1.0875, -0.5627,  0.8829, -0.2601,  1.1701, -0.9949,\n",
      "         -0.0348,  0.6998],\n",
      "        [-0.0310,  1.2313, -1.1317, -0.4238,  0.4090,  0.6386,  0.5517,  0.7654,\n",
      "          0.3454,  1.0626]])\n",
      "Prediction= tensor([-1.0777,  0.9486,  0.3002,  1.1978,  0.0508,  0.7113,  1.2306, -1.0806,\n",
      "         0.6841,  0.6401, -0.5782, -0.4321,  0.3281,  0.6046,  0.8803,  0.4106,\n",
      "         1.0604,  0.7107, -0.2658,  0.6429, -0.4936,  0.5034,  1.1721,  0.5539,\n",
      "         0.9947,  0.8761, -0.9946,  0.7745, -0.5357,  0.0892, -0.0366,  0.3554,\n",
      "         0.9177,  1.2429,  0.6996,  1.0599, -0.3209, -1.1568,  0.3019, -0.4890])\n",
      "Y= tensor([-0.9575,  0.6045,  0.3097,  1.2313,  0.0743,  0.6164,  1.0875, -1.1317,\n",
      "         0.7050,  0.6494, -0.5627, -0.4238,  0.3264,  0.5945,  0.8829,  0.4090,\n",
      "         1.0623,  0.7001, -0.2601,  0.6386, -0.4821,  0.4921,  1.1701,  0.5517,\n",
      "         0.9933,  0.8710, -0.9949,  0.7654, -0.5261,  0.0856, -0.0348,  0.3454,\n",
      "         0.9106,  1.2510,  0.6998,  1.0626, -0.3186, -1.1655,  0.3039, -0.4773])\n"
     ]
    }
   ],
   "source": [
    "X,Y=next(iter(testIter))\n",
    "state=net.begin_state(batchSize)\n",
    "Y_hat,newState=net(X,state)\n",
    "print('X=',torch.squeeze(X))\n",
    "print('Prediction=',torch.squeeze(Y_hat).detach())\n",
    "Y=Y.transpose(0,1).reshape([-1,Y.shape[-1]])\n",
    "print('Y=',torch.squeeze(Y))\n",
    "\n"
   ]
  },
  {
   "cell_type": "code",
   "execution_count": 27,
   "metadata": {},
   "outputs": [
    {
     "data": {
      "image/png": "[encoded data removed]",
      "text/plain": [
       "<Figure size 288x216 with 1 Axes>"
      ]
     },
     "metadata": {
      "needs_background": "light"
     },
     "output_type": "display_data"
    }
   ],
   "source": [
    "#Visualize the data\n",
    "axes,fig=plt.subplots(1,1,figsize=(4,3))\n",
    "plt.title('One-Step Prediction')\n",
    "plt.plot(torch.linspace(0,Y.numel(),Y.numel()),torch.squeeze(Y),label='Y')\n",
    "plt.plot(torch.linspace(0,Y.numel(),Y.numel()),torch.squeeze(Y_hat).detach(),label=r'$\\hat{Y}$')\n",
    "plt.legend();"
   ]
  },
  {
   "cell_type": "markdown",
   "metadata": {},
   "source": [
    "#### Multi Step Prediction"
   ]
  },
  {
   "cell_type": "code",
   "execution_count": 32,
   "metadata": {},
   "outputs": [],
   "source": [
    "prefixSize=10\n",
    "totalSize=30\n",
    "testShift=int(len(hmap)*(1-testSetRatio))"
   ]
  },
  {
   "cell_type": "code",
   "execution_count": 33,
   "metadata": {},
   "outputs": [
    {
     "data": {
      "text/plain": [
       "30"
      ]
     },
     "execution_count": 33,
     "metadata": {},
     "output_type": "execute_result"
    }
   ],
   "source": [
    "preX,preY=hmap.data_as_tensor\n",
    "preX,preY=torch.unsqueeze(preX[testShift:testShift+prefixSize],-1),torch.unsqueeze(preY[testShift:testShift+totalSize-1],-1)\n",
    "#print('preX=',preX)\n",
    "preY=[y for y in torch.cat((preX[:2],preY[1:]),dim=0)]\n",
    "#print('preY=',preY)\n",
    "len(preY)"
   ]
  },
  {
   "cell_type": "code",
   "execution_count": 34,
   "metadata": {},
   "outputs": [
    {
     "data": {
      "text/plain": [
       "30"
      ]
     },
     "execution_count": 34,
     "metadata": {},
     "output_type": "execute_result"
    }
   ],
   "source": [
    "preX=torch.unsqueeze(preX,-1)\n",
    "YHat=predict_fun(preX,net,numPreds=totalSize-prefixSize)\n",
    "#print('YHat=',YHat)\n",
    "len(YHat)"
   ]
  },
  {
   "cell_type": "code",
   "execution_count": 35,
   "metadata": {},
   "outputs": [
    {
     "data": {
      "image/png": "[encoded data removed]",
      "text/plain": [
       "<Figure size 288x216 with 1 Axes>"
      ]
     },
     "metadata": {
      "needs_background": "light"
     },
     "output_type": "display_data"
    }
   ],
   "source": [
    "#Visualize the data\n",
    "axes,fig=plt.subplots(1,1,figsize=(4,3))\n",
    "plt.title('Multi-Step Prediction')\n",
    "fig.set_ylim(-2,2)\n",
    "plt.plot(torch.linspace(0,len(preY),len(preY)),preY,label='Y')\n",
    "plt.plot(torch.linspace(0,len(preY),len(preY)),YHat,label=r'$\\hat{Y}$')\n",
    "plt.vlines([prefixSize],ymin=-2,ymax=2,linestyles='dashed',label='Prediction')\n",
    "plt.legend();"
   ]
  },
  {
   "cell_type": "markdown",
   "metadata": {},
   "source": [
    "# End of the test"
   ]
  }
 ],
 "metadata": {
  "interpreter": {
   "hash": "8d86c190dfcadcdaa67edec4a1ea82702241987b5b1f320c920d3d4ca36fee5b"
  },
  "kernelspec": {
   "display_name": "Python 3.8.3 ('base')",
   "language": "python",
   "name": "python3"
  },
  "language_info": {
   "codemirror_mode": {
    "name": "ipython",
    "version": 3
   },
   "file_extension": ".py",
   "mimetype": "text/x-python",
   "name": "python",
   "nbconvert_exporter": "python",
   "pygments_lexer": "ipython3",
   "version": "3.8.3"
  },
  "orig_nbformat": 4
 },
 "nbformat": 4,
 "nbformat_minor": 2
}
