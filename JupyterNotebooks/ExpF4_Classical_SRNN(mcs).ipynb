{
 "cells": [
  {
   "cell_type": "markdown",
   "metadata": {},
   "source": [
    "# Exp F3 for the Classical SRNN (mcs)"
   ]
  },
  {
   "cell_type": "markdown",
   "metadata": {},
   "source": [
    "This is a notebook for testing the classical SRNN. \n",
    "F4 aims to test the classical counterpart of QRNN."
   ]
  },
  {
   "cell_type": "markdown",
   "metadata": {},
   "source": [
    "## Import everything"
   ]
  },
  {
   "cell_type": "markdown",
   "metadata": {},
   "source": [
    "Modify setting for pytorch"
   ]
  },
  {
   "cell_type": "code",
   "execution_count": 1,
   "metadata": {},
   "outputs": [],
   "source": [
    "import os\n",
    "os.environ['KMP_DUPLICATE_LIB_OK']='True'\n",
    "currentPath=os.getcwd()"
   ]
  },
  {
   "cell_type": "markdown",
   "metadata": {},
   "source": [
    "Import matplotlib and others"
   ]
  },
  {
   "cell_type": "code",
   "execution_count": 2,
   "metadata": {},
   "outputs": [],
   "source": [
    "%matplotlib inline\n",
    "import matplotlib.pyplot as plt\n",
    "import torch"
   ]
  },
  {
   "cell_type": "markdown",
   "metadata": {},
   "source": [
    "Import the classical SRNN and others"
   ]
  },
  {
   "cell_type": "code",
   "execution_count": 3,
   "metadata": {},
   "outputs": [],
   "source": [
    "#Modify path for the notebooks\n",
    "currentPath=os.path.join(currentPath,'..')\n",
    "currentPath=os.path.join(currentPath,'src')\n",
    "os.chdir(currentPath)"
   ]
  },
  {
   "cell_type": "code",
   "execution_count": 4,
   "metadata": {},
   "outputs": [],
   "source": [
    "from DataGenerator.HenonMapDataGen import HenonMapDataGen\n",
    "from ClassicalModels.ClassicalSRNNs import ClassicalSRNN\n",
    "from ClassicalModels.ClassicalSRNNs import SuportFunction\n",
    "from GradientFreeOptimizers.CostFunc import GradFreeMSELoss\n",
    "from GradientFreeOptimizers.Optimizers import MCSOptimizer\n",
    "import GradientFreeOptimizers.Helpers as hp"
   ]
  },
  {
   "cell_type": "markdown",
   "metadata": {},
   "source": [
    "### Get the data"
   ]
  },
  {
   "cell_type": "markdown",
   "metadata": {},
   "source": [
    "#### Set save path"
   ]
  },
  {
   "cell_type": "code",
   "execution_count": 5,
   "metadata": {},
   "outputs": [],
   "source": [
    "savepath=os.path.join(currentPath,'..','data','HenonMap','Exp')\n",
    "filename='QExp1.csv'"
   ]
  },
  {
   "cell_type": "code",
   "execution_count": 6,
   "metadata": {},
   "outputs": [],
   "source": [
    "'''\n",
    "hmap=HenonMapDataGen(savepath=savepath)\n",
    "hmap(10000)\n",
    "hmap.save_to_CSV(filename)\n",
    "''';"
   ]
  },
  {
   "cell_type": "markdown",
   "metadata": {},
   "source": [
    "#### Read the data"
   ]
  },
  {
   "cell_type": "code",
   "execution_count": 7,
   "metadata": {},
   "outputs": [],
   "source": [
    "hmap=HenonMapDataGen(savepath=savepath)\n",
    "hmap.read_from_CSV(filename)"
   ]
  },
  {
   "cell_type": "code",
   "execution_count": 8,
   "metadata": {},
   "outputs": [
    {
     "name": "stdout",
     "output_type": "stream",
     "text": [
      "Data Info:\n",
      "----------------------------------------\n",
      "Data Size: 1000\n",
      "Data Interval: 1\n",
      "Data ParamA: 1.4, Data ParamB: 0.3\n",
      "Data Bound: -1.2\n",
      "Data HeavyMem: True\n",
      "Data Seed:\n",
      " [0.0052160710202766025, 0.048900543744267284]\n",
      "----------------------------------------\n"
     ]
    }
   ],
   "source": [
    "print(hmap)"
   ]
  },
  {
   "cell_type": "markdown",
   "metadata": {},
   "source": [
    "#### Generate the data iter"
   ]
  },
  {
   "cell_type": "code",
   "execution_count": 9,
   "metadata": {},
   "outputs": [],
   "source": [
    "testSetRatio=0.2\n",
    "numStep=10\n",
    "batchSize=16"
   ]
  },
  {
   "cell_type": "code",
   "execution_count": 10,
   "metadata": {},
   "outputs": [],
   "source": [
    "trainIter,testIter=hmap.get_data_iter(testSetRatio,numStep,batchSize,mask=0,shuffle=False)"
   ]
  },
  {
   "cell_type": "code",
   "execution_count": 11,
   "metadata": {},
   "outputs": [
    {
     "name": "stdout",
     "output_type": "stream",
     "text": [
      "Train Data Size: 64\n"
     ]
    }
   ],
   "source": [
    "X,Y=next(iter(trainIter))\n",
    "print('Train Data Size:',len(trainIter))"
   ]
  },
  {
   "cell_type": "code",
   "execution_count": 12,
   "metadata": {},
   "outputs": [
    {
     "name": "stdout",
     "output_type": "stream",
     "text": [
      "Test Data Size: 16\n"
     ]
    }
   ],
   "source": [
    "X,Y=next(iter(testIter))\n",
    "print('Test Data Size:',len(testIter))\n"
   ]
  },
  {
   "cell_type": "markdown",
   "metadata": {},
   "source": [
    "### Define the SRNN"
   ]
  },
  {
   "cell_type": "markdown",
   "metadata": {},
   "source": [
    "#### Get neccesary functions"
   ]
  },
  {
   "cell_type": "code",
   "execution_count": 13,
   "metadata": {},
   "outputs": [],
   "source": [
    "srnnExpSup=SuportFunction()"
   ]
  },
  {
   "cell_type": "code",
   "execution_count": 14,
   "metadata": {},
   "outputs": [],
   "source": [
    "transform=lambda Xs:[torch.squeeze(x) for x in Xs]"
   ]
  },
  {
   "cell_type": "code",
   "execution_count": 15,
   "metadata": {},
   "outputs": [],
   "source": [
    "init_rnn_state=srnnExpSup.get_init_state_fun(initStateValue=1.0)\n",
    "get_params=srnnExpSup.get_get_params_fun(rescale=1.0)\n",
    "rnn=srnnExpSup.get_forward_fn_fun(isTypical=False)\n",
    "predict_fun=srnnExpSup.get_predict_fun(outputTransoform=transform)"
   ]
  },
  {
   "cell_type": "markdown",
   "metadata": {},
   "source": [
    "#### Create the SRNN"
   ]
  },
  {
   "cell_type": "code",
   "execution_count": 16,
   "metadata": {},
   "outputs": [],
   "source": [
    "inputSize=outputSize=1\n",
    "hiddenSize=4"
   ]
  },
  {
   "cell_type": "code",
   "execution_count": 17,
   "metadata": {},
   "outputs": [],
   "source": [
    "net=ClassicalSRNN(inputSize,hiddenSize,outputSize,get_params,init_rnn_state,rnn)"
   ]
  },
  {
   "cell_type": "markdown",
   "metadata": {},
   "source": [
    "#### Test prediction"
   ]
  },
  {
   "cell_type": "code",
   "execution_count": 18,
   "metadata": {},
   "outputs": [
    {
     "data": {
      "text/plain": [
       "(torch.Size([160, 1]), 1, torch.Size([16, 4]))"
      ]
     },
     "execution_count": 18,
     "metadata": {},
     "output_type": "execute_result"
    }
   ],
   "source": [
    "state=net.begin_state(batchSize)\n",
    "Y,newState=net(X,state)\n",
    "Y.shape, len(newState), newState[0].shape"
   ]
  },
  {
   "cell_type": "code",
   "execution_count": 19,
   "metadata": {},
   "outputs": [
    {
     "name": "stdout",
     "output_type": "stream",
     "text": [
      "preX= tensor([[0.0052],\n",
      "        [0.0489]])\n",
      "preY= [tensor([0.0052]), tensor([0.0489]), tensor([0.9982]), tensor([-0.3803]), tensor([1.0969]), tensor([-0.7987]), tensor([0.4360]), tensor([0.4943]), tensor([0.7888]), tensor([0.2772]), tensor([1.1291])]\n"
     ]
    }
   ],
   "source": [
    "preX,preY=hmap.data_as_tensor\n",
    "preX,preY=torch.unsqueeze(preX[:2],-1),torch.unsqueeze(preY[:10],-1)\n",
    "print('preX=',preX)\n",
    "preY=[y for y in torch.cat((preX[:2],preY[1:]),dim=0)]\n",
    "print('preY=',preY)"
   ]
  },
  {
   "cell_type": "code",
   "execution_count": 20,
   "metadata": {},
   "outputs": [
    {
     "name": "stdout",
     "output_type": "stream",
     "text": [
      "YHat= [tensor(0.0052), tensor(0.0489), tensor(-1.0146), tensor(0.0189), tensor(0.0051), tensor(9.3237e-06), tensor(9.6976e-11)]\n"
     ]
    }
   ],
   "source": [
    "preX=torch.unsqueeze(preX,-1)\n",
    "YHat=predict_fun(preX,net,numPreds=5)\n",
    "print('YHat=',YHat)"
   ]
  },
  {
   "cell_type": "markdown",
   "metadata": {},
   "source": [
    "### Train the network"
   ]
  },
  {
   "cell_type": "markdown",
   "metadata": {},
   "source": [
    "#### Parameters"
   ]
  },
  {
   "cell_type": "code",
   "execution_count": 21,
   "metadata": {},
   "outputs": [],
   "source": [
    "num_epochs= 300\n",
    "step_epochs=10"
   ]
  },
  {
   "cell_type": "code",
   "execution_count": 22,
   "metadata": {},
   "outputs": [],
   "source": [
    "#maxLevyStepSize=[1.0,1.0,0.1,1.0,1.0]\n",
    "maxLevyStepSize=[1.0,0.2,1.0,0.3,0.2]\n",
    "regular=[4,1,5,2,1]"
   ]
  },
  {
   "cell_type": "markdown",
   "metadata": {},
   "source": [
    "#### Loss function"
   ]
  },
  {
   "cell_type": "code",
   "execution_count": 23,
   "metadata": {},
   "outputs": [],
   "source": [
    "lossFunc=GradFreeMSELoss(net)"
   ]
  },
  {
   "cell_type": "markdown",
   "metadata": {},
   "source": [
    "#### Trainer"
   ]
  },
  {
   "cell_type": "code",
   "execution_count": 24,
   "metadata": {},
   "outputs": [],
   "source": [
    "mcs=MCSOptimizer(net.params,lossFunc,trainIter,\\\n",
    "    maxLevyStepSize=maxLevyStepSize,regular=regular,\\\n",
    "    randInit=True,nestNum=40,epochToGeneration=lambda x:max(int(x/100),1))"
   ]
  },
  {
   "cell_type": "markdown",
   "metadata": {},
   "source": [
    "#### Initial loss"
   ]
  },
  {
   "cell_type": "code",
   "execution_count": 25,
   "metadata": {},
   "outputs": [
    {
     "name": "stdout",
     "output_type": "stream",
     "text": [
      "Initial Train Loss: 0.755142092704773\n",
      "Initial Test Loss: 1.226671028137207\n"
     ]
    }
   ],
   "source": [
    "l_epochs=[]\n",
    "train_l=SuportFunction.evaluate_accuracy(net,trainIter,lossFunc,False)\n",
    "test_l=SuportFunction.evaluate_accuracy(net,testIter,lossFunc,False)\n",
    "l_epochs.append([train_l,test_l])\n",
    "print('Initial Train Loss:',train_l)\n",
    "print('Initial Test Loss:',test_l)"
   ]
  },
  {
   "cell_type": "markdown",
   "metadata": {},
   "source": [
    "#### Training"
   ]
  },
  {
   "cell_type": "code",
   "execution_count": 26,
   "metadata": {},
   "outputs": [
    {
     "data": {
      "image/png": "[encoded data removed]",
      "text/plain": [
       "<Figure size 252x180 with 1 Axes>"
      ]
     },
     "metadata": {
      "needs_background": "light"
     },
     "output_type": "display_data"
    }
   ],
   "source": [
    "animator = hp.Animator(xlabel='epoch', ylabel='Loss',\n",
    "                            legend=['train','test'], xlim=[10, num_epochs])\n",
    "    # prediction\n",
    "predict = lambda prefix: predict_fun(prefix,net, numPreds=9)\n",
    "# train and predict\n",
    "for epoch in range(num_epochs):\n",
    "    with torch.no_grad():\n",
    "        trainLoss,_ = mcs.step()\n",
    "        testLoss=SuportFunction.evaluate_accuracy(net, testIter, lossFunc, False)\n",
    "        if (epoch + 1) % step_epochs == 0:\n",
    "            print(f'TestLoss {testLoss:f}')\n",
    "            animator.add(epoch + 1, [trainLoss,testLoss])\n",
    "        l_epochs.append([trainLoss,testLoss])\n",
    "testLoss=SuportFunction.evaluate_accuracy(net, testIter, lossFunc, False)"
   ]
  },
  {
   "cell_type": "code",
   "execution_count": 27,
   "metadata": {},
   "outputs": [
    {
     "data": {
      "text/plain": [
       "[0.24351218342781067, 0.4639306545257568]"
      ]
     },
     "execution_count": 27,
     "metadata": {},
     "output_type": "execute_result"
    }
   ],
   "source": [
    "l_epochs[-1]"
   ]
  },
  {
   "cell_type": "code",
   "execution_count": 28,
   "metadata": {},
   "outputs": [
    {
     "name": "stdout",
     "output_type": "stream",
     "text": [
      "[tensor([[-1.4711,  1.8817, -0.5946,  0.3264]], requires_grad=True), tensor([0.3103, 0.0231, 0.0197, 0.1615], requires_grad=True), tensor([[-2.4252, -0.9884, -1.5854, -2.2181],\n",
      "        [-1.0971,  1.8306, -1.9450, -1.6546],\n",
      "        [ 0.3897,  1.3868, -1.2869,  1.0014],\n",
      "        [-0.0403,  0.2666, -1.7040, -0.9612]], requires_grad=True), tensor([[ 0.0523],\n",
      "        [-0.9714],\n",
      "        [-0.2642],\n",
      "        [-0.3658]], requires_grad=True), tensor([0.5000], requires_grad=True)]\n"
     ]
    }
   ],
   "source": [
    "print(net.params)"
   ]
  },
  {
   "cell_type": "markdown",
   "metadata": {},
   "source": [
    "### Visualize the performance"
   ]
  },
  {
   "cell_type": "markdown",
   "metadata": {},
   "source": [
    "#### One Step Prediction"
   ]
  },
  {
   "cell_type": "code",
   "execution_count": 39,
   "metadata": {},
   "outputs": [],
   "source": [
    "X,Y=next(iter(testIter))\n",
    "state=net.begin_state(batchSize)\n",
    "Y_hat,newState=net(X,state)\n",
    "#print('X=',torch.squeeze(X))\n",
    "#print('Prediction=',torch.squeeze(Y_hat).detach())\n",
    "Y=Y.transpose(0,1).reshape([-1,Y.shape[-1]])\n",
    "#print('Y=',torch.squeeze(Y))\n",
    "\n"
   ]
  },
  {
   "cell_type": "code",
   "execution_count": 40,
   "metadata": {},
   "outputs": [
    {
     "data": {
      "image/png": "[encoded data removed]",
      "text/plain": [
       "<Figure size 288x216 with 1 Axes>"
      ]
     },
     "metadata": {
      "needs_background": "light"
     },
     "output_type": "display_data"
    }
   ],
   "source": [
    "#Visualize the data\n",
    "axes,fig=plt.subplots(1,1,figsize=(4,3))\n",
    "plt.title('One-Step Prediction')\n",
    "plt.plot(torch.linspace(0,Y.numel(),Y.numel()),torch.squeeze(Y),label='Y')\n",
    "plt.plot(torch.linspace(0,Y.numel(),Y.numel()),torch.squeeze(Y_hat).detach(),label=r'$\\hat{Y}$')\n",
    "plt.legend();"
   ]
  },
  {
   "cell_type": "markdown",
   "metadata": {},
   "source": [
    "#### Multi Step Prediction"
   ]
  },
  {
   "cell_type": "code",
   "execution_count": 31,
   "metadata": {},
   "outputs": [],
   "source": [
    "prefixSize=10\n",
    "totalSize=20\n",
    "testShift=int(len(hmap)*(1-testSetRatio))"
   ]
  },
  {
   "cell_type": "code",
   "execution_count": 32,
   "metadata": {},
   "outputs": [
    {
     "data": {
      "text/plain": [
       "20"
      ]
     },
     "execution_count": 32,
     "metadata": {},
     "output_type": "execute_result"
    }
   ],
   "source": [
    "preX,preY=hmap.data_as_tensor\n",
    "preX,preY=torch.unsqueeze(preX[testShift:testShift+prefixSize],-1),torch.unsqueeze(preY[testShift:testShift+totalSize-1],-1)\n",
    "#print('preX=',preX)\n",
    "preY=[y for y in torch.cat((preX[:2],preY[1:]),dim=0)]\n",
    "#print('preY=',preY)\n",
    "len(preY)"
   ]
  },
  {
   "cell_type": "code",
   "execution_count": 33,
   "metadata": {},
   "outputs": [
    {
     "data": {
      "text/plain": [
       "20"
      ]
     },
     "execution_count": 33,
     "metadata": {},
     "output_type": "execute_result"
    }
   ],
   "source": [
    "preX=torch.unsqueeze(preX,-1)\n",
    "YHat=predict_fun(preX,net,numPreds=totalSize-prefixSize)\n",
    "#print('YHat=',YHat)\n",
    "len(YHat)"
   ]
  },
  {
   "cell_type": "code",
   "execution_count": 34,
   "metadata": {},
   "outputs": [
    {
     "data": {
      "image/png": "[encoded data removed]",
      "text/plain": [
       "<Figure size 288x216 with 1 Axes>"
      ]
     },
     "metadata": {
      "needs_background": "light"
     },
     "output_type": "display_data"
    }
   ],
   "source": [
    "#Visualize the data\n",
    "axes,fig=plt.subplots(1,1,figsize=(4,3))\n",
    "plt.title('Multi-Step Prediction')\n",
    "fig.set_ylim(-2,2)\n",
    "plt.plot(torch.linspace(0,len(preY),len(preY)),preY,label='Y')\n",
    "plt.plot(torch.linspace(0,len(preY),len(preY)),YHat,label=r'$\\hat{Y}$')\n",
    "plt.vlines([prefixSize-1],ymin=-2,ymax=2,linestyles='dashed',label='Prediction')\n",
    "plt.legend();"
   ]
  },
  {
   "cell_type": "markdown",
   "metadata": {},
   "source": [
    "# End of the test"
   ]
  }
 ],
 "metadata": {
  "interpreter": {
   "hash": "8d86c190dfcadcdaa67edec4a1ea82702241987b5b1f320c920d3d4ca36fee5b"
  },
  "kernelspec": {
   "display_name": "Python 3.8.3 ('base')",
   "language": "python",
   "name": "python3"
  },
  "language_info": {
   "codemirror_mode": {
    "name": "ipython",
    "version": 3
   },
   "file_extension": ".py",
   "mimetype": "text/x-python",
   "name": "python",
   "nbconvert_exporter": "python",
   "pygments_lexer": "ipython3",
   "version": "3.8.3"
  },
  "orig_nbformat": 4
 },
 "nbformat": 4,
 "nbformat_minor": 2
}
