{
 "cells": [
  {
   "cell_type": "markdown",
   "metadata": {},
   "source": [
    "# Test One for the Quantum SRNN"
   ]
  },
  {
   "cell_type": "markdown",
   "metadata": {},
   "source": [
    "This is a notebook for testing the quantum SRNN."
   ]
  },
  {
   "cell_type": "markdown",
   "metadata": {},
   "source": [
    "## Import everything"
   ]
  },
  {
   "cell_type": "markdown",
   "metadata": {},
   "source": [
    "Modify setting for pytorch"
   ]
  },
  {
   "cell_type": "code",
   "execution_count": 1,
   "metadata": {},
   "outputs": [],
   "source": [
    "import os\n",
    "os.environ['KMP_DUPLICATE_LIB_OK']='True'\n",
    "currentPath=os.getcwd()"
   ]
  },
  {
   "cell_type": "markdown",
   "metadata": {},
   "source": [
    "Import matplotlib and others"
   ]
  },
  {
   "cell_type": "code",
   "execution_count": 2,
   "metadata": {},
   "outputs": [],
   "source": [
    "%matplotlib inline\n",
    "import matplotlib.pyplot as plt\n",
    "import torch\n",
    "import qutip as qt"
   ]
  },
  {
   "cell_type": "markdown",
   "metadata": {},
   "source": [
    "Import the classical SRNN and others"
   ]
  },
  {
   "cell_type": "code",
   "execution_count": 3,
   "metadata": {},
   "outputs": [],
   "source": [
    "#Modify path for the notebooks\n",
    "currentPath=os.path.join(currentPath,'..')\n",
    "currentPath=os.path.join(currentPath,'src')\n",
    "os.chdir(currentPath)"
   ]
  },
  {
   "cell_type": "code",
   "execution_count": 4,
   "metadata": {},
   "outputs": [],
   "source": [
    "from DataGenerator.HenonMapDataGen import HenonMapDataGen\n",
    "from QuantumModels.QuantumSRNNs import QuantumSRNN\n",
    "from QuantumModels.QuantumSRNNs import QuantumSystemFunction\n",
    "from GradientFreeOptimizers.CostFunc import GradFreeMSELoss\n",
    "import GradientFreeOptimizers.Helpers as hp"
   ]
  },
  {
   "cell_type": "markdown",
   "metadata": {},
   "source": [
    "## Test One"
   ]
  },
  {
   "cell_type": "markdown",
   "metadata": {},
   "source": [
    "### Get the data"
   ]
  },
  {
   "cell_type": "markdown",
   "metadata": {},
   "source": [
    "#### Set save path"
   ]
  },
  {
   "cell_type": "code",
   "execution_count": 5,
   "metadata": {},
   "outputs": [],
   "source": [
    "savepath=os.path.join(currentPath,'..\\data\\HenonMap\\Test')\n",
    "filename='QuantumSRNNTest1.csv'"
   ]
  },
  {
   "cell_type": "code",
   "execution_count": 6,
   "metadata": {},
   "outputs": [],
   "source": [
    "'''\n",
    "hmap=HenonMapDataGen(savepath=savepath)\n",
    "hmap(1000)\n",
    "hmap.save_to_CSV(filename)\n",
    "''';"
   ]
  },
  {
   "cell_type": "markdown",
   "metadata": {},
   "source": [
    "#### Read the data"
   ]
  },
  {
   "cell_type": "code",
   "execution_count": 7,
   "metadata": {},
   "outputs": [],
   "source": [
    "hmap=HenonMapDataGen(savepath=savepath)\n",
    "hmap.read_from_CSV(filename)"
   ]
  },
  {
   "cell_type": "code",
   "execution_count": 8,
   "metadata": {},
   "outputs": [
    {
     "name": "stdout",
     "output_type": "stream",
     "text": [
      "Data Info:\n",
      "----------------------------------------\n",
      "Data Size: 1000\n",
      "Data Interval: 1\n",
      "Data ParamA: 1.4, Data ParamB: 0.3\n",
      "Data Bound: -1.2\n",
      "Data HeavyMem: True\n",
      "Data Seed:\n",
      " [0.0924795117387862, 0.060895690863037484]\n",
      "----------------------------------------\n"
     ]
    }
   ],
   "source": [
    "print(hmap)"
   ]
  },
  {
   "cell_type": "markdown",
   "metadata": {},
   "source": [
    "#### Generate the data iter"
   ]
  },
  {
   "cell_type": "code",
   "execution_count": 9,
   "metadata": {},
   "outputs": [],
   "source": [
    "testSetRatio=0.2\n",
    "numStep=10\n",
    "batchSize=4"
   ]
  },
  {
   "cell_type": "code",
   "execution_count": 10,
   "metadata": {},
   "outputs": [],
   "source": [
    "trainIter,testIter=hmap.get_data_iter(testSetRatio,numStep,batchSize,mask=0,shuffle=False)"
   ]
  },
  {
   "cell_type": "code",
   "execution_count": 11,
   "metadata": {},
   "outputs": [
    {
     "name": "stdout",
     "output_type": "stream",
     "text": [
      "Train Data Size: 76\n",
      "X= tensor([[ 1.0288, -0.6155,  0.7783, -0.0327,  1.2320, -1.1348, -0.4332,  0.3969,\n",
      "          0.6495,  0.5284],\n",
      "        [ 0.7720, -0.0201,  1.2310, -1.1277, -0.4110,  0.4253,  0.6235,  0.5833,\n",
      "          0.7108,  0.4677],\n",
      "        [ 0.1949,  1.1430, -0.7706,  0.5116,  0.4024,  0.9268, -0.0819,  1.2687,\n",
      "         -1.2779, -0.9055],\n",
      "        [ 0.8530, -0.1886,  1.2061, -1.0931, -0.3108,  0.5368,  0.5033,  0.8064,\n",
      "          0.2406,  1.1609]])\n",
      "Y= tensor([[-0.6155,  0.7783, -0.0327,  1.2320, -1.1348, -0.4332,  0.3969,  0.6495,\n",
      "          0.5284,  0.8039],\n",
      "        [-0.0201,  1.2310, -1.1277, -0.4110,  0.4253,  0.6235,  0.5833,  0.7108,\n",
      "          0.4677,  0.9069],\n",
      "        [ 1.1430, -0.7706,  0.5116,  0.4024,  0.9268, -0.0819,  1.2687, -1.2779,\n",
      "         -0.9055, -0.5313],\n",
      "        [-0.1886,  1.2061, -1.0931, -0.3108,  0.5368,  0.5033,  0.8064,  0.2406,\n",
      "          1.1609, -0.8144]])\n"
     ]
    }
   ],
   "source": [
    "X,Y=next(iter(trainIter))\n",
    "print('Train Data Size:',len(trainIter))\n",
    "print('X=',torch.squeeze(X))\n",
    "print('Y=',torch.squeeze(Y))"
   ]
  },
  {
   "cell_type": "code",
   "execution_count": 12,
   "metadata": {},
   "outputs": [
    {
     "name": "stdout",
     "output_type": "stream",
     "text": [
      "Test Data Size: 16\n",
      "X= tensor([[-0.6889,  0.6724,  0.1604,  1.1657, -0.8543,  0.3280,  0.5931,  0.6060,\n",
      "          0.6639,  0.5648],\n",
      "        [-0.3276,  1.1234, -0.8650,  0.2895,  0.6231,  0.5432,  0.7738,  0.3246,\n",
      "          1.0846, -0.5495],\n",
      "        [ 1.0939, -0.5810,  0.8555, -0.1990,  1.2012, -1.0798, -0.2721,  0.5724,\n",
      "          0.4597,  0.8759],\n",
      "        [ 0.6725,  0.4262,  0.9474, -0.1287,  1.2610, -1.2649, -0.8615, -0.4186,\n",
      "          0.4963,  0.5296]])\n",
      "Y= tensor([[ 0.6724,  0.1604,  1.1657, -0.8543,  0.3280,  0.5931,  0.6060,  0.6639,\n",
      "          0.5648,  0.7526],\n",
      "        [ 1.1234, -0.8650,  0.2895,  0.6231,  0.5432,  0.7738,  0.3246,  1.0846,\n",
      "         -0.5495,  0.9026],\n",
      "        [-0.5810,  0.8555, -0.1990,  1.2012, -1.0798, -0.2721,  0.5724,  0.4597,\n",
      "          0.8759,  0.0638],\n",
      "        [ 0.4262,  0.9474, -0.1287,  1.2610, -1.2649, -0.8615, -0.4186,  0.4963,\n",
      "          0.5296,  0.7561]])\n"
     ]
    }
   ],
   "source": [
    "X,Y=next(iter(testIter))\n",
    "print('Test Data Size:',len(testIter))\n",
    "print('X=',torch.squeeze(X))\n",
    "print('Y=',torch.squeeze(Y))"
   ]
  },
  {
   "cell_type": "markdown",
   "metadata": {},
   "source": [
    "### Define the SRNN"
   ]
  },
  {
   "cell_type": "markdown",
   "metadata": {},
   "source": [
    "#### Parameters"
   ]
  },
  {
   "cell_type": "code",
   "execution_count": 13,
   "metadata": {},
   "outputs": [],
   "source": [
    "inputSize=outputSize=1\n",
    "qubits=4"
   ]
  },
  {
   "cell_type": "code",
   "execution_count": 14,
   "metadata": {},
   "outputs": [
    {
     "name": "stdout",
     "output_type": "stream",
     "text": [
      "Input Qubits: [0, 1, 2, 3]\n",
      "Output Qubits: [0, 1, 2, 3]\n",
      "InterQPairs= [[0, 1], [0, 2], [0, 3], [1, 2], [1, 3], [2, 3]]\n"
     ]
    }
   ],
   "source": [
    "activation=[0,2]\n",
    "inputQubits=outputQubits=[i for i in range(qubits)]\n",
    "interQPairs=[[i,j] for i in range(qubits) for j in range(i+1,qubits)]\n",
    "inactive=['WIn','DeltaIn','J']\n",
    "print('Input Qubits:',inputQubits)\n",
    "print('Output Qubits:',outputQubits)\n",
    "print('InterQPairs=',interQPairs)"
   ]
  },
  {
   "cell_type": "code",
   "execution_count": 15,
   "metadata": {},
   "outputs": [],
   "source": [
    "measEffect=True"
   ]
  },
  {
   "cell_type": "markdown",
   "metadata": {},
   "source": [
    "#### Get neccesary functions"
   ]
  },
  {
   "cell_type": "code",
   "execution_count": 16,
   "metadata": {},
   "outputs": [],
   "source": [
    "srnnTestSup=QuantumSystemFunction()"
   ]
  },
  {
   "cell_type": "code",
   "execution_count": 17,
   "metadata": {},
   "outputs": [],
   "source": [
    "transform=lambda Xs:[torch.squeeze(x) for x in Xs]"
   ]
  },
  {
   "cell_type": "code",
   "execution_count": 18,
   "metadata": {},
   "outputs": [],
   "source": [
    "init_rnn_state=srnnTestSup.get_init_state_fun(activation=activation)\n",
    "get_params=srnnTestSup.get_get_params_fun(inputQubits=inputQubits,outputQubits=outputQubits,interQPairs=interQPairs,inactive=inactive)\n",
    "rnn=srnnTestSup.get_forward_fn_fun(measEffect=measEffect)\n",
    "predict_fun=srnnTestSup.get_predict_fun(outputTransoform=transform)"
   ]
  },
  {
   "cell_type": "markdown",
   "metadata": {},
   "source": [
    "#### Create the SRNN"
   ]
  },
  {
   "cell_type": "code",
   "execution_count": 19,
   "metadata": {},
   "outputs": [],
   "source": [
    "net=QuantumSRNN(inputSize,qubits,outputSize,get_params,init_rnn_state,rnn)"
   ]
  },
  {
   "cell_type": "markdown",
   "metadata": {},
   "source": [
    "#### Test prediction"
   ]
  },
  {
   "cell_type": "code",
   "execution_count": 20,
   "metadata": {},
   "outputs": [
    {
     "data": {
      "text/plain": [
       "(torch.Size([40, 1]), 1, (16, 16))"
      ]
     },
     "execution_count": 20,
     "metadata": {},
     "output_type": "execute_result"
    }
   ],
   "source": [
    "state=net.begin_state(batchSize)\n",
    "Y,newState=net(X,state)\n",
    "Y.shape, len(newState), newState[0][0].shape"
   ]
  },
  {
   "cell_type": "code",
   "execution_count": 21,
   "metadata": {},
   "outputs": [
    {
     "name": "stdout",
     "output_type": "stream",
     "text": [
      "preX= tensor([[0.0925],\n",
      "        [0.0609]])\n",
      "preY= [tensor([0.0925]), tensor([0.0609]), tensor([1.0226]), tensor([-0.4456]), tensor([1.0288]), tensor([-0.6155]), tensor([0.7783]), tensor([-0.0327]), tensor([1.2320]), tensor([-1.1348]), tensor([-0.4332])]\n"
     ]
    }
   ],
   "source": [
    "preX,preY=hmap.data_as_tensor\n",
    "preX,preY=torch.unsqueeze(preX[:2],-1),torch.unsqueeze(preY[:10],-1)\n",
    "print('preX=',preX)\n",
    "preY=[y for y in torch.cat((preX[:2],preY[1:]),dim=0)]\n",
    "print('preY=',preY)"
   ]
  },
  {
   "cell_type": "code",
   "execution_count": 22,
   "metadata": {},
   "outputs": [
    {
     "name": "stdout",
     "output_type": "stream",
     "text": [
      "YHat= [tensor(0.0925), tensor(0.0609), tensor(-0.0016), tensor(-0.0016), tensor(-0.0016), tensor(-0.0016), tensor(-0.0016)]\n"
     ]
    }
   ],
   "source": [
    "preX=torch.unsqueeze(preX,-1)\n",
    "YHat=predict_fun(preX,net,numPreds=5)\n",
    "print('YHat=',YHat)"
   ]
  },
  {
   "cell_type": "markdown",
   "metadata": {},
   "source": [
    "### Train the network"
   ]
  },
  {
   "cell_type": "markdown",
   "metadata": {},
   "source": [
    "#### Parameters"
   ]
  },
  {
   "cell_type": "code",
   "execution_count": 23,
   "metadata": {},
   "outputs": [],
   "source": [
    "num_epochs, lr = 10, 0.1"
   ]
  },
  {
   "cell_type": "markdown",
   "metadata": {},
   "source": [
    "#### Loss function"
   ]
  },
  {
   "cell_type": "code",
   "execution_count": 24,
   "metadata": {},
   "outputs": [],
   "source": [
    "lossFunc=GradFreeMSELoss(net)"
   ]
  },
  {
   "cell_type": "code",
   "execution_count": 25,
   "metadata": {},
   "outputs": [
    {
     "name": "stdout",
     "output_type": "stream",
     "text": [
      "[tensor([[ 0.0020],\n",
      "        [-0.0067],\n",
      "        [-0.0126],\n",
      "        [-0.0071]], requires_grad=True), tensor([0.], requires_grad=True)]\n"
     ]
    }
   ],
   "source": [
    "print(net.params)"
   ]
  },
  {
   "cell_type": "markdown",
   "metadata": {},
   "source": [
    "#### Trainer"
   ]
  },
  {
   "cell_type": "code",
   "execution_count": 26,
   "metadata": {},
   "outputs": [],
   "source": [
    "trainer = torch.optim.SGD(net.params, lr=lr)\n",
    "scheduler=torch.optim.lr_scheduler.StepLR(trainer,step_size=100,gamma=0.1)"
   ]
  },
  {
   "cell_type": "code",
   "execution_count": 27,
   "metadata": {},
   "outputs": [
    {
     "name": "stdout",
     "output_type": "stream",
     "text": [
      "True\n",
      "True\n"
     ]
    }
   ],
   "source": [
    "print(net.params[0].is_leaf)\n",
    "print(net.params[1].is_leaf)"
   ]
  },
  {
   "cell_type": "markdown",
   "metadata": {},
   "source": [
    "#### Initial loss"
   ]
  },
  {
   "cell_type": "code",
   "execution_count": 28,
   "metadata": {},
   "outputs": [
    {
     "name": "stdout",
     "output_type": "stream",
     "text": [
      "Initial Train Loss: 0.5827982626463237\n",
      "Initial Test Loss: 0.5604377627372742\n"
     ]
    }
   ],
   "source": [
    "l_epochs=[]\n",
    "train_l=QuantumSystemFunction.evaluate_accuracy(net,trainIter,lossFunc,False)\n",
    "test_l=QuantumSystemFunction.evaluate_accuracy(net,testIter,lossFunc,False)\n",
    "l_epochs.append([train_l,test_l])\n",
    "print('Initial Train Loss:',train_l)\n",
    "print('Initial Test Loss:',test_l)"
   ]
  },
  {
   "cell_type": "markdown",
   "metadata": {},
   "source": [
    "#### Training"
   ]
  },
  {
   "cell_type": "code",
   "execution_count": 29,
   "metadata": {},
   "outputs": [
    {
     "name": "stdout",
     "output_type": "stream",
     "text": [
      "TestLoss 0.461407, 35.441148 point/s\n",
      "Prediction:\n",
      " [tensor(0.0925), tensor(0.0609), tensor(0.2415), tensor(0.2415), tensor(0.2415), tensor(0.2415), tensor(0.2415), tensor(0.2415), tensor(0.2415), tensor(0.2415), tensor(0.2415)]\n",
      "Answer:\n",
      " [tensor([0.0925]), tensor([0.0609]), tensor([1.0226]), tensor([-0.4456]), tensor([1.0288]), tensor([-0.6155]), tensor([0.7783]), tensor([-0.0327]), tensor([1.2320]), tensor([-1.1348]), tensor([-0.4332])]\n"
     ]
    },
    {
     "data": {
      "image/png": "[encoded data removed]",
      "text/plain": [
       "<Figure size 252x180 with 1 Axes>"
      ]
     },
     "metadata": {
      "needs_background": "light"
     },
     "output_type": "display_data"
    }
   ],
   "source": [
    "animator = hp.Animator(xlabel='epoch', ylabel='Loss',\n",
    "                            legend=['train','test'],xlim=[1,num_epochs])\n",
    "    # prediction\n",
    "predict = lambda prefix: predict_fun(prefix,net, numPreds=9)\n",
    "# train and predict\n",
    "for epoch in range(num_epochs):\n",
    "    trainLoss, speed = QuantumSystemFunction.train_epoch(\n",
    "        net, trainIter, lossFunc, trainer, False)\n",
    "    testLoss=QuantumSystemFunction.evaluate_accuracy(net, testIter, lossFunc, False)\n",
    "    if (epoch + 1) % 1 == 0:\n",
    "        print(predict(preX))\n",
    "        animator.add(epoch + 1, [trainLoss,testLoss])\n",
    "    l_epochs.append([trainLoss,testLoss])\n",
    "    scheduler.step()\n",
    "testLoss=QuantumSystemFunction.evaluate_accuracy(net, testIter, lossFunc, False)\n",
    "print(f'TestLoss {testLoss:f}, {speed:f} point/s')\n",
    "print('Prediction:\\n',predict(preX))\n",
    "print('Answer:\\n',preY)"
   ]
  },
  {
   "cell_type": "markdown",
   "metadata": {},
   "source": [
    "### Visualize the performance"
   ]
  },
  {
   "cell_type": "markdown",
   "metadata": {},
   "source": [
    "#### One Step Prediction"
   ]
  },
  {
   "cell_type": "code",
   "execution_count": 30,
   "metadata": {},
   "outputs": [
    {
     "name": "stdout",
     "output_type": "stream",
     "text": [
      "X= tensor([[ 0.2497,  1.1224, -0.6889,  0.6724,  0.1604,  1.1657, -0.8543,  0.3280,\n",
      "          0.5931,  0.6060],\n",
      "        [ 0.9121, -0.3276,  1.1234, -0.8650,  0.2895,  0.6231,  0.5432,  0.7738,\n",
      "          0.3246,  1.0846],\n",
      "        [ 1.0939, -0.5810,  0.8555, -0.1990,  1.2012, -1.0798, -0.2721,  0.5724,\n",
      "          0.4597,  0.8759],\n",
      "        [ 0.4262,  0.9474, -0.1287,  1.2610, -1.2649, -0.8615, -0.4186,  0.4963,\n",
      "          0.5296,  0.7561]])\n",
      "Prediction= tensor([0.2414, 0.2414, 0.2414, 0.2414, 0.2415, 0.2415, 0.2415, 0.2415, 0.2415,\n",
      "        0.2415, 0.2415, 0.2415, 0.2415, 0.2415, 0.2415, 0.2415, 0.2415, 0.2415,\n",
      "        0.2415, 0.2415, 0.2415, 0.2415, 0.2415, 0.2415, 0.2415, 0.2415, 0.2415,\n",
      "        0.2415, 0.2415, 0.2415, 0.2415, 0.2415, 0.2415, 0.2415, 0.2415, 0.2415,\n",
      "        0.2415, 0.2415, 0.2415, 0.2415])\n",
      "Y= tensor([ 1.1224, -0.3276, -0.5810,  0.9474, -0.6889,  1.1234,  0.8555, -0.1287,\n",
      "         0.6724, -0.8650, -0.1990,  1.2610,  0.1604,  0.2895,  1.2012, -1.2649,\n",
      "         1.1657,  0.6231, -1.0798, -0.8615, -0.8543,  0.5432, -0.2721, -0.4186,\n",
      "         0.3280,  0.7738,  0.5724,  0.4963,  0.5931,  0.3246,  0.4597,  0.5296,\n",
      "         0.6060,  1.0846,  0.8759,  0.7561,  0.6639, -0.5495,  0.0638,  0.3584])\n"
     ]
    }
   ],
   "source": [
    "X,Y=next(iter(testIter))\n",
    "state=net.begin_state(batchSize)\n",
    "Y_hat,newState=net(X,state)\n",
    "print('X=',torch.squeeze(X))\n",
    "print('Prediction=',torch.squeeze(Y_hat).detach())\n",
    "Y=Y.transpose(0,1).reshape([-1,Y.shape[-1]])\n",
    "print('Y=',torch.squeeze(Y))\n",
    "\n"
   ]
  },
  {
   "cell_type": "code",
   "execution_count": 31,
   "metadata": {},
   "outputs": [
    {
     "data": {
      "image/png": "[encoded data removed]",
      "text/plain": [
       "<Figure size 288x216 with 1 Axes>"
      ]
     },
     "metadata": {
      "needs_background": "light"
     },
     "output_type": "display_data"
    }
   ],
   "source": [
    "#Visualize the data\n",
    "axes,fig=plt.subplots(1,1,figsize=(4,3))\n",
    "plt.title('One-Step Prediction')\n",
    "plt.plot(torch.linspace(0,Y.numel(),Y.numel()),torch.squeeze(Y),label='Y')\n",
    "plt.plot(torch.linspace(0,Y.numel(),Y.numel()),torch.squeeze(Y_hat).detach(),label=r'$\\hat{Y}$')\n",
    "plt.legend();"
   ]
  },
  {
   "cell_type": "markdown",
   "metadata": {},
   "source": [
    "#### Multi Step Prediction"
   ]
  },
  {
   "cell_type": "code",
   "execution_count": 32,
   "metadata": {},
   "outputs": [],
   "source": [
    "prefixSize=10\n",
    "totalSize=40\n",
    "testShift=int(len(hmap)*(1-testSetRatio))"
   ]
  },
  {
   "cell_type": "code",
   "execution_count": 33,
   "metadata": {},
   "outputs": [
    {
     "data": {
      "text/plain": [
       "40"
      ]
     },
     "execution_count": 33,
     "metadata": {},
     "output_type": "execute_result"
    }
   ],
   "source": [
    "preX,preY=hmap.data_as_tensor\n",
    "preX,preY=torch.unsqueeze(preX[testShift:testShift+prefixSize],-1),torch.unsqueeze(preY[testShift:testShift+totalSize-1],-1)\n",
    "#print('preX=',preX)\n",
    "preY=[y for y in torch.cat((preX[:2],preY[1:]),dim=0)]\n",
    "#print('preY=',preY)\n",
    "len(preY)"
   ]
  },
  {
   "cell_type": "code",
   "execution_count": 34,
   "metadata": {},
   "outputs": [
    {
     "data": {
      "text/plain": [
       "40"
      ]
     },
     "execution_count": 34,
     "metadata": {},
     "output_type": "execute_result"
    }
   ],
   "source": [
    "preX=torch.unsqueeze(preX,-1)\n",
    "YHat=predict_fun(preX,net,numPreds=totalSize-prefixSize)\n",
    "#print('YHat=',YHat)\n",
    "len(YHat)"
   ]
  },
  {
   "cell_type": "code",
   "execution_count": 35,
   "metadata": {},
   "outputs": [
    {
     "data": {
      "image/png": "[encoded data removed]",
      "text/plain": [
       "<Figure size 288x216 with 1 Axes>"
      ]
     },
     "metadata": {
      "needs_background": "light"
     },
     "output_type": "display_data"
    }
   ],
   "source": [
    "#Visualize the data\n",
    "axes,fig=plt.subplots(1,1,figsize=(4,3))\n",
    "plt.title('Multi-Step Prediction')\n",
    "fig.set_ylim(-2,2)\n",
    "plt.plot(torch.linspace(0,len(preY),len(preY)),preY,label='Y')\n",
    "plt.plot(torch.linspace(0,len(preY),len(preY)),YHat,label=r'$\\hat{Y}$')\n",
    "plt.vlines([prefixSize-1],ymin=-2,ymax=2,linestyles='dashed',label='Prediction')\n",
    "plt.legend();"
   ]
  },
  {
   "cell_type": "code",
   "execution_count": 36,
   "metadata": {},
   "outputs": [
    {
     "name": "stdout",
     "output_type": "stream",
     "text": [
      "[tensor([[0.0176],\n",
      "        [0.0096],\n",
      "        [0.0033],\n",
      "        [0.0101]], requires_grad=True), tensor([0.2388], requires_grad=True)]\n"
     ]
    }
   ],
   "source": [
    "print(net.params)"
   ]
  },
  {
   "cell_type": "code",
   "execution_count": 37,
   "metadata": {},
   "outputs": [
    {
     "data": {
      "text/plain": [
       "(torch.Size([40, 1]), 1, (16, 16))"
      ]
     },
     "execution_count": 37,
     "metadata": {},
     "output_type": "execute_result"
    }
   ],
   "source": [
    "state=net.begin_state(batchSize)\n",
    "Y,newState=net(X,state)\n",
    "Y.shape, len(newState), newState[0][0].shape"
   ]
  },
  {
   "cell_type": "code",
   "execution_count": 38,
   "metadata": {},
   "outputs": [
    {
     "name": "stdout",
     "output_type": "stream",
     "text": [
      "0.9999999999999992\n"
     ]
    }
   ],
   "source": [
    "I=[]\n",
    "for i in range(qubits):\n",
    "    I.append(qt.qeye(2))\n",
    "I=qt.tensor(I)\n",
    "print(qt.expect(I,newState[0][0]))"
   ]
  },
  {
   "cell_type": "code",
   "execution_count": 39,
   "metadata": {},
   "outputs": [
    {
     "name": "stdout",
     "output_type": "stream",
     "text": [
      "0.06650630616560294\n"
     ]
    }
   ],
   "source": [
    "sigma=[]\n",
    "j=1\n",
    "for i in range(qubits):\n",
    "    if i==j:\n",
    "        sigma.append(qt.sigmaz())\n",
    "    else:\n",
    "        sigma.append(qt.qeye(2))\n",
    "sigma=qt.tensor(sigma)\n",
    "print(qt.expect(sigma,newState[0][0]))"
   ]
  },
  {
   "cell_type": "markdown",
   "metadata": {},
   "source": [
    "# End of the test"
   ]
  }
 ],
 "metadata": {
  "interpreter": {
   "hash": "8d86c190dfcadcdaa67edec4a1ea82702241987b5b1f320c920d3d4ca36fee5b"
  },
  "kernelspec": {
   "display_name": "qml",
   "language": "python",
   "name": "python3"
  },
  "language_info": {
   "codemirror_mode": {
    "name": "ipython",
    "version": 3
   },
   "file_extension": ".py",
   "mimetype": "text/x-python",
   "name": "python",
   "nbconvert_exporter": "python",
   "pygments_lexer": "ipython3",
   "version": "3.8.3"
  },
  "orig_nbformat": 4
 },
 "nbformat": 4,
 "nbformat_minor": 2
}
