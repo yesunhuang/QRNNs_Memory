{
 "cells": [
  {
   "cell_type": "markdown",
   "metadata": {},
   "source": [
    "# Test One for the Classical SRNN"
   ]
  },
  {
   "cell_type": "markdown",
   "metadata": {},
   "source": [
    "This is a notebook for testing the classical SRNN."
   ]
  },
  {
   "cell_type": "markdown",
   "metadata": {},
   "source": [
    "## Import everything"
   ]
  },
  {
   "cell_type": "markdown",
   "metadata": {},
   "source": [
    "Modify setting for pytorch"
   ]
  },
  {
   "cell_type": "code",
   "execution_count": 1,
   "metadata": {},
   "outputs": [],
   "source": [
    "import os\n",
    "os.environ['KMP_DUPLICATE_LIB_OK']='True'\n",
    "currentPath=os.getcwd()"
   ]
  },
  {
   "cell_type": "markdown",
   "metadata": {},
   "source": [
    "Import matplotlib and others"
   ]
  },
  {
   "cell_type": "code",
   "execution_count": 2,
   "metadata": {},
   "outputs": [],
   "source": [
    "%matplotlib inline\n",
    "import matplotlib.pyplot as plt\n",
    "import torch"
   ]
  },
  {
   "cell_type": "markdown",
   "metadata": {},
   "source": [
    "Import the classical SRNN and others"
   ]
  },
  {
   "cell_type": "code",
   "execution_count": 3,
   "metadata": {},
   "outputs": [],
   "source": [
    "#Modify path for the notebooks\n",
    "currentPath=os.path.join(currentPath,'..')\n",
    "currentPath=os.path.join(currentPath,'src')\n",
    "os.chdir(currentPath)"
   ]
  },
  {
   "cell_type": "code",
   "execution_count": 4,
   "metadata": {},
   "outputs": [],
   "source": [
    "from DataGenerator.HenonMapDataGen import HenonMapDataGen\n",
    "from QuantumModels.QuantumSRNNs import QuantumSRNN\n",
    "from QuantumModels.QuantumSRNNs import QuantumSystemFunction\n",
    "from GradientFreeOptimizers.CostFunc import GradFreeMSELoss\n",
    "import GradientFreeOptimizers.Helpers as hp"
   ]
  },
  {
   "cell_type": "markdown",
   "metadata": {},
   "source": [
    "## Test One"
   ]
  },
  {
   "cell_type": "markdown",
   "metadata": {},
   "source": [
    "### Get the data"
   ]
  },
  {
   "cell_type": "markdown",
   "metadata": {},
   "source": [
    "#### Set save path"
   ]
  },
  {
   "cell_type": "code",
   "execution_count": 5,
   "metadata": {},
   "outputs": [],
   "source": [
    "savepath=os.path.join(currentPath,'..\\data\\HenonMap\\Test')\n",
    "filename='QuantumSRNNTest1.csv'"
   ]
  },
  {
   "cell_type": "code",
   "execution_count": 6,
   "metadata": {},
   "outputs": [],
   "source": [
    "'''\n",
    "hmap=HenonMapDataGen(savepath=savepath)\n",
    "hmap(1000)\n",
    "hmap.save_to_CSV(filename)\n",
    "''';"
   ]
  },
  {
   "cell_type": "markdown",
   "metadata": {},
   "source": [
    "#### Read the data"
   ]
  },
  {
   "cell_type": "code",
   "execution_count": 7,
   "metadata": {},
   "outputs": [],
   "source": [
    "hmap=HenonMapDataGen(savepath=savepath)\n",
    "hmap.read_from_CSV(filename)"
   ]
  },
  {
   "cell_type": "code",
   "execution_count": 8,
   "metadata": {},
   "outputs": [
    {
     "name": "stdout",
     "output_type": "stream",
     "text": [
      "Data Info:\n",
      "----------------------------------------\n",
      "Data Size: 1000\n",
      "Data Interval: 1\n",
      "Data ParamA: 1.4, Data ParamB: 0.3\n",
      "Data Bound: -1.2\n",
      "Data HeavyMem: True\n",
      "Data Seed:\n",
      " [0.0924795117387862, 0.060895690863037484]\n",
      "----------------------------------------\n"
     ]
    }
   ],
   "source": [
    "print(hmap)"
   ]
  },
  {
   "cell_type": "markdown",
   "metadata": {},
   "source": [
    "#### Generate the data iter"
   ]
  },
  {
   "cell_type": "code",
   "execution_count": 9,
   "metadata": {},
   "outputs": [],
   "source": [
    "testSetRatio=0.2\n",
    "numStep=30\n",
    "batchSize=1"
   ]
  },
  {
   "cell_type": "code",
   "execution_count": 10,
   "metadata": {},
   "outputs": [],
   "source": [
    "trainIter,testIter=hmap.get_data_iter(testSetRatio,numStep,batchSize,mask=0,shuffle=False)"
   ]
  },
  {
   "cell_type": "code",
   "execution_count": 11,
   "metadata": {},
   "outputs": [
    {
     "name": "stdout",
     "output_type": "stream",
     "text": [
      "Train Data Size: 26\n",
      "X= tensor([ 1.0288, -0.6155,  0.7783, -0.0327,  1.2320, -1.1348, -0.4332,  0.3969,\n",
      "         0.6495,  0.5284,  0.8039,  0.2538,  1.1510, -0.7786,  0.4966,  0.4212,\n",
      "         0.9006, -0.0091,  1.2701, -1.2610, -0.8451, -0.3780,  0.5464,  0.4686,\n",
      "         0.8565,  0.1136,  1.2389, -1.1147, -0.3678,  0.4763])\n",
      "Y= tensor([-0.6155,  0.7783, -0.0327,  1.2320, -1.1348, -0.4332,  0.3969,  0.6495,\n",
      "         0.5284,  0.8039,  0.2538,  1.1510, -0.7786,  0.4966,  0.4212,  0.9006,\n",
      "        -0.0091,  1.2701, -1.2610, -0.8451, -0.3780,  0.5464,  0.4686,  0.8565,\n",
      "         0.1136,  1.2389, -1.1147, -0.3678,  0.4763,  0.5721])\n"
     ]
    }
   ],
   "source": [
    "X,Y=next(iter(trainIter))\n",
    "print('Train Data Size:',len(trainIter))\n",
    "print('X=',torch.squeeze(X))\n",
    "print('Y=',torch.squeeze(Y))"
   ]
  },
  {
   "cell_type": "code",
   "execution_count": 12,
   "metadata": {},
   "outputs": [
    {
     "name": "stdout",
     "output_type": "stream",
     "text": [
      "Test Data Size: 5\n",
      "X= tensor([ 0.8114,  0.2343,  1.1665, -0.8348,  0.3742,  0.5535,  0.6834,  0.5122,\n",
      "         0.8378,  0.1710,  1.2104, -0.9999, -0.0365,  0.6982,  0.3066,  1.0778,\n",
      "        -0.5344,  0.9235, -0.3543,  1.1013, -0.8044,  0.4246,  0.5063,  0.7684,\n",
      "         0.3252,  1.0825, -0.5429,  0.9121, -0.3276,  1.1234])\n",
      "Y= tensor([ 0.2343,  1.1665, -0.8348,  0.3742,  0.5535,  0.6834,  0.5122,  0.8378,\n",
      "         0.1710,  1.2104, -0.9999, -0.0365,  0.6982,  0.3066,  1.0778, -0.5344,\n",
      "         0.9235, -0.3543,  1.1013, -0.8044,  0.4246,  0.5063,  0.7684,  0.3252,\n",
      "         1.0825, -0.5429,  0.9121, -0.3276,  1.1234, -0.8650])\n"
     ]
    }
   ],
   "source": [
    "X,Y=next(iter(testIter))\n",
    "print('Test Data Size:',len(testIter))\n",
    "print('X=',torch.squeeze(X))\n",
    "print('Y=',torch.squeeze(Y))"
   ]
  },
  {
   "cell_type": "markdown",
   "metadata": {},
   "source": [
    "### Define the SRNN"
   ]
  },
  {
   "cell_type": "markdown",
   "metadata": {},
   "source": [
    "#### Parameters"
   ]
  },
  {
   "cell_type": "code",
   "execution_count": 13,
   "metadata": {},
   "outputs": [],
   "source": [
    "inputSize=outputSize=1\n",
    "qubits=4"
   ]
  },
  {
   "cell_type": "code",
   "execution_count": 14,
   "metadata": {},
   "outputs": [
    {
     "name": "stdout",
     "output_type": "stream",
     "text": [
      "Input Qubits: [0, 1, 2, 3]\n",
      "Output Qubits: [0, 1, 2, 3]\n",
      "InterQPairs= [[0, 1], [0, 2], [0, 3], [1, 2], [1, 3], [2, 3]]\n"
     ]
    }
   ],
   "source": [
    "activation=[0,2]\n",
    "inputQubits=outputQubits=[i for i in range(qubits)]\n",
    "interQPairs=[[i,j] for i in range(qubits) for j in range(i+1,qubits)]\n",
    "inactive=['WIn','DeltaIn','J']\n",
    "print('Input Qubits:',inputQubits)\n",
    "print('Output Qubits:',outputQubits)\n",
    "print('InterQPairs=',interQPairs)"
   ]
  },
  {
   "cell_type": "code",
   "execution_count": 15,
   "metadata": {},
   "outputs": [],
   "source": [
    "measEffect=True"
   ]
  },
  {
   "cell_type": "markdown",
   "metadata": {},
   "source": [
    "#### Get neccesary functions"
   ]
  },
  {
   "cell_type": "code",
   "execution_count": 16,
   "metadata": {},
   "outputs": [],
   "source": [
    "srnnTestSup=QuantumSystemFunction()"
   ]
  },
  {
   "cell_type": "code",
   "execution_count": 17,
   "metadata": {},
   "outputs": [],
   "source": [
    "transform=lambda Xs:[torch.squeeze(x) for x in Xs]"
   ]
  },
  {
   "cell_type": "code",
   "execution_count": 18,
   "metadata": {},
   "outputs": [],
   "source": [
    "init_rnn_state=srnnTestSup.get_init_state_fun(activation=activation)\n",
    "get_params=srnnTestSup.get_get_params_fun(inputQubits=inputQubits,outputQubits=outputQubits,interQPairs=interQPairs,inactive=inactive)\n",
    "rnn=srnnTestSup.get_forward_fn_fun(measEffect=measEffect)\n",
    "predict_fun=srnnTestSup.get_predict_fun(outputTransoform=transform)"
   ]
  },
  {
   "cell_type": "markdown",
   "metadata": {},
   "source": [
    "#### Create the SRNN"
   ]
  },
  {
   "cell_type": "code",
   "execution_count": 19,
   "metadata": {},
   "outputs": [],
   "source": [
    "net=QuantumSRNN(inputSize,qubits,outputSize,get_params,init_rnn_state,rnn)"
   ]
  },
  {
   "cell_type": "markdown",
   "metadata": {},
   "source": [
    "#### Test prediction"
   ]
  },
  {
   "cell_type": "code",
   "execution_count": 18,
   "metadata": {},
   "outputs": [
    {
     "data": {
      "text/plain": [
       "(torch.Size([40, 1]), 1, torch.Size([4, 6]))"
      ]
     },
     "execution_count": 18,
     "metadata": {},
     "output_type": "execute_result"
    }
   ],
   "source": [
    "state=net.begin_state(batchSize)\n",
    "Y,newState=net(X,state)\n",
    "Y.shape, len(newState), newState[0].shape"
   ]
  },
  {
   "cell_type": "code",
   "execution_count": 19,
   "metadata": {},
   "outputs": [
    {
     "name": "stdout",
     "output_type": "stream",
     "text": [
      "preX= tensor([[0.0041],\n",
      "        [0.0660]])\n",
      "preY= [tensor([0.0041]), tensor([0.0660]), tensor([0.9951]), tensor([-0.3666]), tensor([1.1104]), tensor([-0.8361]), tensor([0.3545]), tensor([0.5733]), tensor([0.6463]), tensor([0.5872]), tensor([0.7111])]\n"
     ]
    }
   ],
   "source": [
    "preX,preY=hmap.data_as_tensor\n",
    "preX,preY=torch.unsqueeze(preX[:2],-1),torch.unsqueeze(preY[:10],-1)\n",
    "print('preX=',preX)\n",
    "preY=[y for y in torch.cat((preX[:2],preY[1:]),dim=0)]\n",
    "print('preY=',preY)"
   ]
  },
  {
   "cell_type": "code",
   "execution_count": 20,
   "metadata": {},
   "outputs": [
    {
     "name": "stdout",
     "output_type": "stream",
     "text": [
      "YHat= [tensor(0.0041), tensor(0.0660), tensor(1.2776e-05), tensor(3.4233e-07), tensor(-1.9828e-08), tensor(5.4997e-10), tensor(-1.1543e-11)]\n"
     ]
    }
   ],
   "source": [
    "preX=torch.unsqueeze(preX,-1)\n",
    "YHat=predict_fun(preX,net,numPreds=5)\n",
    "print('YHat=',YHat)"
   ]
  },
  {
   "cell_type": "markdown",
   "metadata": {},
   "source": [
    "### Train the network"
   ]
  },
  {
   "cell_type": "markdown",
   "metadata": {},
   "source": [
    "#### Parameters"
   ]
  },
  {
   "cell_type": "code",
   "execution_count": 21,
   "metadata": {},
   "outputs": [],
   "source": [
    "num_epochs, lr = 600, 0.1"
   ]
  },
  {
   "cell_type": "markdown",
   "metadata": {},
   "source": [
    "#### Loss function"
   ]
  },
  {
   "cell_type": "code",
   "execution_count": 22,
   "metadata": {},
   "outputs": [],
   "source": [
    "lossFunc=GradFreeMSELoss(net)"
   ]
  },
  {
   "cell_type": "markdown",
   "metadata": {},
   "source": [
    "#### Trainer"
   ]
  },
  {
   "cell_type": "code",
   "execution_count": 23,
   "metadata": {},
   "outputs": [],
   "source": [
    "trainer = torch.optim.SGD(net.params, lr=lr)\n",
    "scheduler=torch.optim.lr_scheduler.StepLR(trainer,step_size=100,gamma=0.1)"
   ]
  },
  {
   "cell_type": "markdown",
   "metadata": {},
   "source": [
    "#### Initial loss"
   ]
  },
  {
   "cell_type": "code",
   "execution_count": 24,
   "metadata": {},
   "outputs": [
    {
     "name": "stdout",
     "output_type": "stream",
     "text": [
      "Initial Train Loss: 0.5854037797630732\n",
      "Initial Test Loss: 0.5828977661132813\n"
     ]
    }
   ],
   "source": [
    "l_epochs=[]\n",
    "train_l=SuportFunction.evaluate_accuracy(net,trainIter,lossFunc,False)\n",
    "test_l=SuportFunction.evaluate_accuracy(net,testIter,lossFunc,False)\n",
    "l_epochs.append([train_l,test_l])\n",
    "print('Initial Train Loss:',train_l)\n",
    "print('Initial Test Loss:',test_l)"
   ]
  },
  {
   "cell_type": "markdown",
   "metadata": {},
   "source": [
    "#### Training"
   ]
  },
  {
   "cell_type": "code",
   "execution_count": 25,
   "metadata": {},
   "outputs": [
    {
     "name": "stdout",
     "output_type": "stream",
     "text": [
      "TestLoss 0.000341, 13503.679743 point/s\n",
      "Prediction:\n",
      " [tensor(0.0041), tensor(0.0660), tensor(0.9567), tensor(-0.2716), tensor(1.1833), tensor(-1.0393), tensor(-0.1756), tensor(0.6417), tensor(0.3719), tensor(0.9985), tensor(-0.2967)]\n",
      "Answer:\n",
      " [tensor([0.0041]), tensor([0.0660]), tensor([0.9951]), tensor([-0.3666]), tensor([1.1104]), tensor([-0.8361]), tensor([0.3545]), tensor([0.5733]), tensor([0.6463]), tensor([0.5872]), tensor([0.7111])]\n"
     ]
    },
    {
     "data": {
      "image/png": "[encoded data removed]",
      "text/plain": [
       "<Figure size 252x180 with 1 Axes>"
      ]
     },
     "metadata": {
      "needs_background": "light"
     },
     "output_type": "display_data"
    }
   ],
   "source": [
    "animator = hp.Animator(xlabel='epoch', ylabel='Loss',\n",
    "                            legend=['train','test'], xlim=[10, num_epochs])\n",
    "    # prediction\n",
    "predict = lambda prefix: predict_fun(prefix,net, numPreds=9)\n",
    "# train and predict\n",
    "for epoch in range(num_epochs):\n",
    "    trainLoss, speed = SuportFunction.train_epoch(\n",
    "        net, trainIter, lossFunc, trainer, False)\n",
    "    testLoss=SuportFunction.evaluate_accuracy(net, testIter, lossFunc, False)\n",
    "    if (epoch + 1) % 10 == 0:\n",
    "        print(predict(preX))\n",
    "        animator.add(epoch + 1, [trainLoss,testLoss])\n",
    "    l_epochs.append([trainLoss,testLoss])\n",
    "    scheduler.step()\n",
    "testLoss=SuportFunction.evaluate_accuracy(net, testIter, lossFunc, False)\n",
    "print(f'TestLoss {testLoss:f}, {speed:f} point/s')\n",
    "print('Prediction:\\n',predict(preX))\n",
    "print('Answer:\\n',preY)"
   ]
  },
  {
   "cell_type": "markdown",
   "metadata": {},
   "source": [
    "### Visualize the performance"
   ]
  },
  {
   "cell_type": "markdown",
   "metadata": {},
   "source": [
    "#### One Step Prediction"
   ]
  },
  {
   "cell_type": "code",
   "execution_count": 26,
   "metadata": {},
   "outputs": [
    {
     "name": "stdout",
     "output_type": "stream",
     "text": [
      "X= tensor([[ 0.9933, -0.5261,  0.9106, -0.3186,  1.1310, -0.8866,  0.2390,  0.6541,\n",
      "          0.4727,  0.8834],\n",
      "        [ 0.7001,  0.4921,  0.8710,  0.0856,  1.2510, -1.1655, -0.5263,  0.2626,\n",
      "          0.7456,  0.3006],\n",
      "        [-0.5627,  0.8829, -0.2601,  1.1701, -0.9949, -0.0348,  0.6998,  0.3039,\n",
      "          1.0807, -0.5438],\n",
      "        [ 1.2313, -1.1317, -0.4238,  0.4090,  0.6386,  0.5517,  0.7654,  0.3454,\n",
      "          1.0626, -0.4773]])\n",
      "Prediction= tensor([-0.3704,  0.3911,  0.2183, -1.0951,  0.9367,  0.9153, -0.3851, -0.5020,\n",
      "        -0.3308,  0.0810,  1.1839,  0.4064,  1.1355,  1.2372, -0.9990,  0.6409,\n",
      "        -0.8948, -1.1507, -0.0499,  0.5592,  0.2371, -0.5406,  0.6937,  0.7791,\n",
      "         0.6547,  0.2678,  0.3010,  0.3555,  0.4724,  0.7395,  1.0768,  1.0614,\n",
      "         0.8930,  0.3017, -0.5607, -0.4954,  0.0485,  1.0940,  0.9190,  1.0064])\n",
      "Y= tensor([-0.5261,  0.4921,  0.8829, -1.1317,  0.9106,  0.8710, -0.2601, -0.4238,\n",
      "        -0.3186,  0.0856,  1.1701,  0.4090,  1.1310,  1.2510, -0.9949,  0.6386,\n",
      "        -0.8866, -1.1655, -0.0348,  0.5517,  0.2390, -0.5263,  0.6998,  0.7654,\n",
      "         0.6541,  0.2626,  0.3039,  0.3454,  0.4727,  0.7456,  1.0807,  1.0626,\n",
      "         0.8834,  0.3006, -0.5438, -0.4773,  0.0493,  1.0972,  0.9102,  0.9999])\n"
     ]
    }
   ],
   "source": [
    "X,Y=next(iter(testIter))\n",
    "state=net.begin_state(batchSize)\n",
    "Y_hat,newState=net(X,state)\n",
    "print('X=',torch.squeeze(X))\n",
    "print('Prediction=',torch.squeeze(Y_hat).detach())\n",
    "Y=Y.transpose(0,1).reshape([-1,Y.shape[-1]])\n",
    "print('Y=',torch.squeeze(Y))\n",
    "\n"
   ]
  },
  {
   "cell_type": "code",
   "execution_count": 27,
   "metadata": {},
   "outputs": [
    {
     "data": {
      "image/png": "[encoded data removed]",
      "text/plain": [
       "<Figure size 288x216 with 1 Axes>"
      ]
     },
     "metadata": {
      "needs_background": "light"
     },
     "output_type": "display_data"
    }
   ],
   "source": [
    "#Visualize the data\n",
    "axes,fig=plt.subplots(1,1,figsize=(4,3))\n",
    "plt.title('One-Step Prediction')\n",
    "plt.plot(torch.linspace(0,Y.numel(),Y.numel()),torch.squeeze(Y),label='Y')\n",
    "plt.plot(torch.linspace(0,Y.numel(),Y.numel()),torch.squeeze(Y_hat).detach(),label=r'$\\hat{Y}$')\n",
    "plt.legend();"
   ]
  },
  {
   "cell_type": "markdown",
   "metadata": {},
   "source": [
    "#### Multi Step Prediction"
   ]
  },
  {
   "cell_type": "code",
   "execution_count": 28,
   "metadata": {},
   "outputs": [],
   "source": [
    "prefixSize=10\n",
    "totalSize=40\n",
    "testShift=int(len(hmap)*(1-testSetRatio))"
   ]
  },
  {
   "cell_type": "code",
   "execution_count": 29,
   "metadata": {},
   "outputs": [
    {
     "data": {
      "text/plain": [
       "40"
      ]
     },
     "execution_count": 29,
     "metadata": {},
     "output_type": "execute_result"
    }
   ],
   "source": [
    "preX,preY=hmap.data_as_tensor\n",
    "preX,preY=torch.unsqueeze(preX[testShift:testShift+prefixSize],-1),torch.unsqueeze(preY[testShift:testShift+totalSize-1],-1)\n",
    "#print('preX=',preX)\n",
    "preY=[y for y in torch.cat((preX[:2],preY[1:]),dim=0)]\n",
    "#print('preY=',preY)\n",
    "len(preY)"
   ]
  },
  {
   "cell_type": "code",
   "execution_count": 30,
   "metadata": {},
   "outputs": [
    {
     "data": {
      "text/plain": [
       "40"
      ]
     },
     "execution_count": 30,
     "metadata": {},
     "output_type": "execute_result"
    }
   ],
   "source": [
    "preX=torch.unsqueeze(preX,-1)\n",
    "YHat=predict_fun(preX,net,numPreds=totalSize-prefixSize)\n",
    "#print('YHat=',YHat)\n",
    "len(YHat)"
   ]
  },
  {
   "cell_type": "code",
   "execution_count": 31,
   "metadata": {},
   "outputs": [
    {
     "data": {
      "image/png": "[encoded data removed]",
      "text/plain": [
       "<Figure size 288x216 with 1 Axes>"
      ]
     },
     "metadata": {
      "needs_background": "light"
     },
     "output_type": "display_data"
    }
   ],
   "source": [
    "#Visualize the data\n",
    "axes,fig=plt.subplots(1,1,figsize=(4,3))\n",
    "plt.title('Multi-Step Prediction')\n",
    "fig.set_ylim(-2,2)\n",
    "plt.plot(torch.linspace(0,len(preY),len(preY)),preY,label='Y')\n",
    "plt.plot(torch.linspace(0,len(preY),len(preY)),YHat,label=r'$\\hat{Y}$')\n",
    "plt.vlines([prefixSize-1],ymin=-2,ymax=2,linestyles='dashed',label='Prediction')\n",
    "plt.legend();"
   ]
  },
  {
   "cell_type": "markdown",
   "metadata": {},
   "source": [
    "# End of the test"
   ]
  }
 ],
 "metadata": {
  "interpreter": {
   "hash": "8d86c190dfcadcdaa67edec4a1ea82702241987b5b1f320c920d3d4ca36fee5b"
  },
  "kernelspec": {
   "display_name": "Python 3.8.3 ('base')",
   "language": "python",
   "name": "python3"
  },
  "language_info": {
   "codemirror_mode": {
    "name": "ipython",
    "version": 3
   },
   "file_extension": ".py",
   "mimetype": "text/x-python",
   "name": "python",
   "nbconvert_exporter": "python",
   "pygments_lexer": "ipython3",
   "version": "3.8.3"
  },
  "orig_nbformat": 4
 },
 "nbformat": 4,
 "nbformat_minor": 2
}
